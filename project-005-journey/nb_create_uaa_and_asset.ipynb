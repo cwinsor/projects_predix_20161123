{
 "cells": [
  {
   "cell_type": "code",
   "execution_count": 53,
   "metadata": {
    "collapsed": false
   },
   "outputs": [
    {
     "name": "stdout",
     "output_type": "stream",
     "text": [
      "cloudForge log in\n",
      "username:cwinsor@gmail.com\n",
      "password:········\n",
      "get the API endpoint...\n",
      "MY_PR_API_ENDPOINT https://api.system.aws-usw02-pr.ice.predix.io\n",
      "get the OAUTH bearer token...\n",
      "MY_PR_BEARER_TOKEN eyJhbGciOiJSUzI1NiIsImtpZCI6ImxlZ2FjeS10b2tlbi1rZXkiLCJ0eXAiOiJKV1QifQ.eyJqdGkiOiI3YTQ2YTliNGQ0NGM0YWQwOTNkNjk0ZDY3MTI4MGRlMiIsInN1YiI6IjM1NjNmOTE2LThiOWYtNDRhMi1iMTAzLTFiY2RiNmE1ZjJkNiIsInNjb3BlIjpbImNsb3VkX2NvbnRyb2xsZXIucmVhZCIsInBhc3N3b3JkLndyaXRlIiwiY2xvdWRfY29udHJvbGxlci53cml0ZSIsIm9wZW5pZCIsInVhYS51c2VyIl0sImNsaWVudF9pZCI6ImNmIiwiY2lkIjoiY2YiLCJhenAiOiJjZiIsImdyYW50X3R5cGUiOiJwYXNzd29yZCIsInVzZXJfaWQiOiIzNTYzZjkxNi04YjlmLTQ0YTItYjEwMy0xYmNkYjZhNWYyZDYiLCJvcmlnaW4iOiJ1YWEiLCJ1c2VyX25hbWUiOiJjd2luc29yQGdtYWlsLmNvbSIsImVtYWlsIjoiY3dpbnNvckBnbWFpbC5jb20iLCJyZXZfc2lnIjoiNjMyMzE2ZSIsImlhdCI6MTQ4MDQ2ODI5OCwiZXhwIjoxNDgwNDc1NDk4LCJpc3MiOiJodHRwczovL3VhYS5zeXN0ZW0uYXdzLXVzdzAyLXByLmljZS5wcmVkaXguaW8vb2F1dGgvdG9rZW4iLCJ6aWQiOiJ1YWEiLCJhdWQiOlsiY2xvdWRfY29udHJvbGxlciIsInBhc3N3b3JkIiwiY2YiLCJ1YWEiLCJvcGVuaWQiXX0.X9toTt8zmPCn5cOVc1nDJseoTO7gXo6qCgHYZgR4GiwmYwfTG98YzU0j2dlgA5tg903C6hd5HZ9fjxD9nSSniHbAtn_ycbKUbi8x1PFGcTZKXvmXjEZLbSofvHfwKT4L7meYKwXAx3o58LuGOXh7Wjiatbqb-THOLArgHgbz3OFjfGh2SHMJqqg751-vLUhtKMFvMoNfiWlc5Ge7ZuIj9H-HMoPjGFYqQ_YHr1vMg7jBOZtuSfrEovnG7LNrMvD9xmojabP9BmSYJrOu2t7N_HWZhgB2ngmNBplU6P2QyeYdDoGeiLInHrFcaPNPnTejYt1mil76Wf1JRzjUPWrQgw\n",
      "done\n"
     ]
    }
   ],
   "source": [
    "### Log In\n",
    "\n",
    "import getpass\n",
    "from subprocess import check_output\n",
    "\n",
    "print(\"cloudForge log in\")\n",
    "u = raw_input(\"username:\")\n",
    "p = getpass.getpass(\"password:\")\n",
    "\n",
    "# get the API endpoint\n",
    "print (\"get the API endpoint...\")\n",
    "foo = check_output([\"cf\", \"login\", \"-u\", u, \"-p\", p])\n",
    "foo = check_output([\"cf\", \"api\"])\n",
    "bar = foo.split()\n",
    "MY_PR_API_ENDPOINT = bar[2]\n",
    "print (\"MY_PR_API_ENDPOINT \" + MY_PR_API_ENDPOINT)\n",
    "\n",
    "# get the OAUTH bearer token\n",
    "print (\"get the OAUTH bearer token...\")\n",
    "foo = check_output([\"cf\", \"oauth-token\"])\n",
    "bar = foo.split()\n",
    "MY_PR_BEARER_TOKEN = bar[1]\n",
    "MY_PR_BEARER_TOKEN_W_AUTH = \"'Authorization: bearer \" + MY_PR_BEARER_TOKEN + \"'\"\n",
    "print (\"MY_PR_BEARER_TOKEN \" + MY_PR_BEARER_TOKEN)\n",
    "\n",
    "print(\"done\")"
   ]
  },
  {
   "cell_type": "code",
   "execution_count": 58,
   "metadata": {
    "collapsed": false
   },
   "outputs": [
    {
     "name": "stdout",
     "output_type": "stream",
     "text": [
      "Choose the space you want to target:\n",
      "     {0: u'dev', 1: u'other'}0\n",
      "targeting space: \"dev\"\n",
      "url: /v2/spaces/f9c7e95d-76ad-477e-aaa8-ce8103b4e7cc\n"
     ]
    }
   ],
   "source": [
    "# Identify what space to target.  Get the guig\n",
    "\n",
    "# cf curl /v2/spaces\n",
    "foo = check_output([\"cf\", \"curl\", \"/v2/spaces\"])\n",
    "import json\n",
    "blah = json.loads(foo)\n",
    "#print json.dumps(blah, sort_keys=True, indent=4, separators=(',', ': '))\n",
    "\n",
    "dict = {}\n",
    "for num, line in enumerate(blah[\"resources\"]):\n",
    "    dict[num] = line[\"entity\"][\"name\"]\n",
    "\n",
    "if (len(dict)==1):\n",
    "    sp = 0;\n",
    "else:\n",
    "    finished = False\n",
    "    while not finished:\n",
    "        sp = input(\"Choose the space you want to target:\\n     \" + str(dict))\n",
    "        try:\n",
    "            t = blah[\"resources\"][sp]\n",
    "            finished = True\n",
    "        except IndexError:\n",
    "            finished = False\n",
    "\n",
    "MY_PR_GUID   = blah[\"resources\"][sp][\"metadata\"][\"guid\"]\n",
    "MY_PR_URL    = blah[\"resources\"][sp][\"metadata\"][\"url\"]\n",
    "MY_PR_NAME   = blah[\"resources\"][sp][\"entity\"][\"name\"]\n",
    "MY_PR_ENTITY = blah[\"resources\"][sp][\"entity\"]\n",
    "\n",
    "lst = [\"cf\", \"target\", \"-s\", MY_PR_NAME]\n",
    "foo = check_output(lst)\n",
    "\n",
    "print \"targeting space: \\\"\" + MY_PR_NAME + \"\\\"\"\n",
    "print \"url: \" + MY_PR_URL"
   ]
  },
  {
   "cell_type": "code",
   "execution_count": 57,
   "metadata": {
    "collapsed": false
   },
   "outputs": [
    {
     "name": "stdout",
     "output_type": "stream",
     "text": [
      "Create UAA Service\n",
      "secret code:········\n",
      "Creating service instance my-uaa in org cwinsor@gmail.com / space dev as cwinsor@gmail.com...\n",
      "OK\n",
      "\n",
      "done\n"
     ]
    }
   ],
   "source": [
    "### Create UAA Service\n",
    "### cf create-service predix-uaa Free my-uaa -c '{\"adminClientSecret\":\"my-secret\"}'\n",
    "\n",
    "print(\"Create UAA Service\")\n",
    "secret = getpass.getpass('secret code:')\n",
    "aa = \"\\\"adminClientSecret\\\"\"\n",
    "bb = \"\\\"\" + secret + \"\\\"\"\n",
    "cc = \"{\" + aa + \":\" + bb + \"}\"\n",
    "#print cc\n",
    "dd = [\"cf\", \"create-service\", \"predix-uaa\", \"Free\", \"my-uaa\", \"-c\", cc]\n",
    "#print dd\n",
    "foo = check_output(dd)\n",
    "print foo\n",
    "\n",
    "print(\"done\")"
   ]
  },
  {
   "cell_type": "code",
   "execution_count": 59,
   "metadata": {
    "collapsed": false
   },
   "outputs": [
    {
     "name": "stdout",
     "output_type": "stream",
     "text": [
      "using \"my-uaa\"\n",
      "GUID: f1cfab72-7cf4-4b16-8956-25cf9aa0362c\n"
     ]
    }
   ],
   "source": [
    "### choose the UAA service instance and get its details\n",
    "from subprocess import check_output\n",
    "\n",
    "lst = [\"curl\", \"-H\", \"Authorization: bearer \" + MY_PR_BEARER_TOKEN,  MY_PR_API_ENDPOINT + MY_PR_URL + \"/summary\"]\n",
    "foo = check_output(lst)\n",
    "import json\n",
    "blah = json.loads(foo)\n",
    "#print json.dumps(blah, sort_keys=True, indent=4, separators=(',', ': '))\n",
    "\n",
    "dict = {}\n",
    "for num, line in enumerate(blah[\"services\"]) :\n",
    "    if (line[\"service_plan\"][\"service\"][\"label\"] == \"predix-uaa\"):\n",
    "        dict[num] = line[\"name\"]\n",
    "\n",
    "if (len(dict)==1):\n",
    "    sp = 0;\n",
    "else:\n",
    "    finished = False\n",
    "    while not finished:\n",
    "        sp = input(\"Choose the UAA service you want to use:\\n     \" + str(dict))\n",
    "        try:\n",
    "            t = blah[\"services\"][sp]\n",
    "            finished = True\n",
    "        except IndexError:\n",
    "            finished = False\n",
    "    \n",
    "MY_PR_UAA_GUID   =  blah[\"services\"][sp][\"guid\"]\n",
    "MY_PR_UAA_NAME   =  blah[\"services\"][sp][\"name\"]\n",
    "\n",
    "print \"using \\\"\" + MY_PR_UAA_NAME + \"\\\"\"\n",
    "print \"GUID: \" + MY_PR_UAA_GUID"
   ]
  },
  {
   "cell_type": "code",
   "execution_count": 60,
   "metadata": {
    "collapsed": false
   },
   "outputs": [
    {
     "name": "stdout",
     "output_type": "stream",
     "text": [
      "Create Asset Service\n",
      "done\n"
     ]
    }
   ],
   "source": [
    "### Create Asset Service\n",
    "### cf create-service predix-asset Tiered my-asset -c '{\"trustedIssuerIds\":[\"https://2edfb28e-e02c-4ae9-a7cd-818c263128d8.predix-uaa.run.aws-usw02-pr.ice.predix.io/oauth/token\"]}'\n",
    "\n",
    "print(\"Create Asset Service\")\n",
    "issuer_id = json.dumps({\"trustedIssuerIds\": [MY_PR_API_ENDPOINT + MY_PR_URL + \"/oauth/token\"]})\n",
    "dd = [\"cf\", \"create-service\", \"predix-asset\", \"Tiered\", \"my-asset\", \"-c\", issuer_id]\n",
    "foo = check_output(dd)\n",
    "print(\"done\")"
   ]
  },
  {
   "cell_type": "code",
   "execution_count": 61,
   "metadata": {
    "collapsed": false
   },
   "outputs": [
    {
     "name": "stdout",
     "output_type": "stream",
     "text": [
      "{\n",
      "  \"guid\": \"f9c7e95d-76ad-477e-aaa8-ce8103b4e7cc\",\n",
      "  \"name\": \"dev\",\n",
      "  \"apps\": [\n",
      "\n",
      "  ],\n",
      "  \"services\": [\n",
      "    {\n",
      "      \"guid\": \"22f7c171-2e1b-4b10-9812-091feca9d1ff\",\n",
      "      \"name\": \"my-asset\",\n",
      "      \"bound_app_count\": 0,\n",
      "      \"last_operation\": {\n",
      "        \"type\": \"create\",\n",
      "        \"state\": \"succeeded\",\n",
      "        \"description\": \"\",\n",
      "        \"updated_at\": null,\n",
      "        \"created_at\": \"2016-11-30T01:20:31Z\"\n",
      "      },\n",
      "      \"dashboard_url\": null,\n",
      "      \"service_plan\": {\n",
      "        \"guid\": \"e08d80b5-6da3-4f29-a2f1-f7834d06cd29\",\n",
      "        \"name\": \"Tiered\",\n",
      "        \"service\": {\n",
      "          \"guid\": \"90fc045c-adb0-41c6-9c5d-072d3d2c44b2\",\n",
      "          \"label\": \"predix-asset\",\n",
      "          \"provider\": null,\n",
      "          \"version\": null\n",
      "        }\n",
      "      }\n",
      "    },\n",
      "    {\n",
      "      \"guid\": \"f1cfab72-7cf4-4b16-8956-25cf9aa0362c\",\n",
      "      \"name\": \"my-uaa\",\n",
      "      \"bound_app_count\": 0,\n",
      "      \"last_operation\": {\n",
      "        \"type\": \"create\",\n",
      "        \"state\": \"succeeded\",\n",
      "        \"description\": \"\",\n",
      "        \"updated_at\": null,\n",
      "        \"created_at\": \"2016-11-30T01:17:14Z\"\n",
      "      },\n",
      "      \"dashboard_url\": null,\n",
      "      \"service_plan\": {\n",
      "        \"guid\": \"7b3e7f66-b1b8-448e-857e-79e2fde2e6c8\",\n",
      "        \"name\": \"Free\",\n",
      "        \"service\": {\n",
      "          \"guid\": \"a7d692d5-5d26-4b0b-b9a9-8e3e84a61856\",\n",
      "          \"label\": \"predix-uaa\",\n",
      "          \"provider\": null,\n",
      "          \"version\": null\n",
      "        }\n",
      "      }\n",
      "    }\n",
      "  ]\n",
      "}\n",
      "using \"my-uaa\"\n",
      "GUID: f1cfab72-7cf4-4b16-8956-25cf9aa0362c\n"
     ]
    }
   ],
   "source": [
    "### choose the Asset service instance and get its details\n",
    "from subprocess import check_output\n",
    "\n",
    "lst = [\"curl\", \"-H\", \"Authorization: bearer \" + MY_PR_BEARER_TOKEN,  MY_PR_API_ENDPOINT + MY_PR_URL + \"/summary\"]\n",
    "foo = check_output(lst)\n",
    "print foo\n",
    "\n",
    "import json\n",
    "blah = json.loads(foo)\n",
    "#print json.dumps(blah, sort_keys=True, indent=4, separators=(',', ': '))\n",
    "\n",
    "dict = {}\n",
    "for num, line in enumerate(blah[\"services\"]) :\n",
    "    if (line[\"service_plan\"][\"service\"][\"label\"] == \"predix-asset\"):\n",
    "        dict[num] = line[\"name\"]\n",
    "\n",
    "if (len(dict)==1):\n",
    "    sp = 0;\n",
    "else:\n",
    "    finished = False\n",
    "    while not finished:\n",
    "        sp = input(\"Choose the Asset service you want to use:\\n     \" + str(dict))\n",
    "        try:\n",
    "            t = blah[\"services\"][sp]\n",
    "            finished = True\n",
    "        except IndexError:\n",
    "            finished = False\n",
    "    \n",
    "MY_PR_ASSET_GUID   =  blah[\"services\"][sp][\"guid\"]\n",
    "MY_PR_ASSET_NAME   =  blah[\"services\"][sp][\"name\"]\n",
    "\n",
    "print \"using \\\"\" + MY_PR_UAA_NAME + \"\\\"\"\n",
    "print \"GUID: \" + MY_PR_UAA_GUID"
   ]
  },
  {
   "cell_type": "code",
   "execution_count": null,
   "metadata": {
    "collapsed": true
   },
   "outputs": [],
   "source": []
  }
 ],
 "metadata": {
  "kernelspec": {
   "display_name": "Python 2",
   "language": "python",
   "name": "python2"
  },
  "language_info": {
   "codemirror_mode": {
    "name": "ipython",
    "version": 2
   },
   "file_extension": ".py",
   "mimetype": "text/x-python",
   "name": "python",
   "nbconvert_exporter": "python",
   "pygments_lexer": "ipython2",
   "version": "2.7.5"
  }
 },
 "nbformat": 4,
 "nbformat_minor": 1
}

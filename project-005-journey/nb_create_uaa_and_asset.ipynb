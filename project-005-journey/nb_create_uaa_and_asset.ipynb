{
 "cells": [
  {
   "cell_type": "code",
   "execution_count": 66,
   "metadata": {
    "collapsed": false
   },
   "outputs": [],
   "source": [
    "'''\n",
    "This Notebook uses cloudFoundary services from GE Predix\n",
    "to demonstrate the use of authentication and asset management\n",
    "in the context of a simple user application.\n",
    "\n",
    "We use:\n",
    "    subprocess management (Python standard library)\n",
    "    json (Python standard library)\n",
    "    cloudFoundry api (via linux \"curl\")\n",
    "    cloudFoundry cf CLI\n",
    "    cloufFoundary UAA and Asset micrososervices\n",
    "\n",
    "The script deploys UAA and Asset microservices and uses a\n",
    "a simple user web app to demonstrate authentication.\n",
    "\n",
    "References:\n",
    "The process is based on the example at\n",
    "    https://www.predix.io/blog/article.html?article_id=2034\n",
    "with additional information from \n",
    "    http://stackoverflow.com/questions/27985469/how-to-get-oauth-token-from-cloudfoundry\n",
    "    https://docs.python.org/3.7/reference/index.html\n",
    "    https://docs.python.org/3.7/library/index.html\n",
    "'''\n",
    "x=1"
   ]
  },
  {
   "cell_type": "code",
   "execution_count": 67,
   "metadata": {
    "collapsed": false
   },
   "outputs": [
    {
     "name": "stdout",
     "output_type": "stream",
     "text": [
      "cloudForge log in\n",
      "username:cwinsor@gmail.com\n",
      "password:········\n",
      "done\n"
     ]
    }
   ],
   "source": [
    "### Log In\n",
    "\n",
    "import getpass\n",
    "from subprocess import check_output\n",
    "\n",
    "print(\"cloudForge log in\")\n",
    "u = raw_input(\"username:\")\n",
    "p = getpass.getpass(\"password:\")\n",
    "foo = check_output([\"cf\", \"login\", \"-u\", u, \"-p\", p])\n",
    "#print foo\n",
    "\n",
    "print(\"done\")"
   ]
  },
  {
   "cell_type": "code",
   "execution_count": 68,
   "metadata": {
    "collapsed": false
   },
   "outputs": [
    {
     "name": "stdout",
     "output_type": "stream",
     "text": [
      "Choose the space you want to target:\n",
      "     {0: u'dev', 1: u'other'}0\n",
      "MY_PR_SPACE_URL /v2/spaces/f9c7e95d-76ad-477e-aaa8-ce8103b4e7cc\n",
      "MY_PR_APPS_URL /v2/spaces/f9c7e95d-76ad-477e-aaa8-ce8103b4e7cc/apps\n",
      "MY_PR_SERVICES_URL /v2/spaces/f9c7e95d-76ad-477e-aaa8-ce8103b4e7cc/service_instances\n",
      "name: dev\n",
      "{\n",
      "    \"entity\": {\n",
      "        \"allow_ssh\": true,\n",
      "        \"app_events_url\": \"/v2/spaces/f9c7e95d-76ad-477e-aaa8-ce8103b4e7cc/app_events\",\n",
      "        \"apps_url\": \"/v2/spaces/f9c7e95d-76ad-477e-aaa8-ce8103b4e7cc/apps\",\n",
      "        \"auditors_url\": \"/v2/spaces/f9c7e95d-76ad-477e-aaa8-ce8103b4e7cc/auditors\",\n",
      "        \"developers_url\": \"/v2/spaces/f9c7e95d-76ad-477e-aaa8-ce8103b4e7cc/developers\",\n",
      "        \"domains_url\": \"/v2/spaces/f9c7e95d-76ad-477e-aaa8-ce8103b4e7cc/domains\",\n",
      "        \"events_url\": \"/v2/spaces/f9c7e95d-76ad-477e-aaa8-ce8103b4e7cc/events\",\n",
      "        \"isolation_segment_guid\": null,\n",
      "        \"managers_url\": \"/v2/spaces/f9c7e95d-76ad-477e-aaa8-ce8103b4e7cc/managers\",\n",
      "        \"name\": \"dev\",\n",
      "        \"organization_guid\": \"bd806ab3-1297-47cd-bdcc-1ab816ae2216\",\n",
      "        \"organization_url\": \"/v2/organizations/bd806ab3-1297-47cd-bdcc-1ab816ae2216\",\n",
      "        \"routes_url\": \"/v2/spaces/f9c7e95d-76ad-477e-aaa8-ce8103b4e7cc/routes\",\n",
      "        \"security_groups_url\": \"/v2/spaces/f9c7e95d-76ad-477e-aaa8-ce8103b4e7cc/security_groups\",\n",
      "        \"service_instances_url\": \"/v2/spaces/f9c7e95d-76ad-477e-aaa8-ce8103b4e7cc/service_instances\",\n",
      "        \"space_quota_definition_guid\": null\n",
      "    },\n",
      "    \"metadata\": {\n",
      "        \"created_at\": \"2016-11-22T16:36:54Z\",\n",
      "        \"guid\": \"f9c7e95d-76ad-477e-aaa8-ce8103b4e7cc\",\n",
      "        \"updated_at\": null,\n",
      "        \"url\": \"/v2/spaces/f9c7e95d-76ad-477e-aaa8-ce8103b4e7cc\"\n",
      "    }\n",
      "}\n"
     ]
    }
   ],
   "source": [
    "# Identify what space to target.  Get the URL\n",
    "\n",
    "from subprocess import check_output\n",
    "import json\n",
    "\n",
    "foo = check_output([\"cf\", \"curl\", \"/v2/spaces\"])\n",
    "MY_PR_ORG = json.loads(foo)\n",
    "#print json.dumps(MY_PR_ORG, sort_keys=True, indent=4, separators=(',', ': '))\n",
    "\n",
    "dict = {}\n",
    "for num, line in enumerate(MY_PR_ORG[\"resources\"]):\n",
    "    dict[num] = line[\"entity\"][\"name\"]\n",
    "\n",
    "if (len(dict)==1):\n",
    "    sp = 0;\n",
    "else:\n",
    "    finished = False\n",
    "    while not finished:\n",
    "        sp = input(\"Choose the space you want to target:\\n     \" + str(dict))\n",
    "        try:\n",
    "            t = MY_PR_ORG[\"resources\"][sp]\n",
    "            finished = True\n",
    "        except IndexError:\n",
    "            finished = False\n",
    "\n",
    "MY_PR_SPACE_URL    = MY_PR_ORG[\"resources\"][sp][\"metadata\"][\"url\"]\n",
    "MY_PR_APPS_URL     = MY_PR_ORG[\"resources\"][sp][\"entity\"][\"apps_url\"]\n",
    "MY_PR_SERVICES_URL = MY_PR_ORG[\"resources\"][sp][\"entity\"][\"service_instances_url\"]\n",
    "\n",
    "print \"MY_PR_SPACE_URL \" + MY_PR_SPACE_URL\n",
    "print \"MY_PR_APPS_URL \" +  MY_PR_APPS_URL\n",
    "print \"MY_PR_SERVICES_URL \" +  MY_PR_SERVICES_URL\n",
    "\n",
    "root = json.loads(check_output([\"cf\", \"curl\", MY_PR_SPACE_URL]))\n",
    "print \"name: \" + root[\"entity\"][\"name\"]\n",
    "print json.dumps(root, sort_keys=True, indent=4, separators=(',', ': '))\n",
    "\n",
    "# tell cf to target that space\n",
    "foo = check_output([\"cf\", \"target\", \"-s\", MY_PR_SPACE_NAME])"
   ]
  },
  {
   "cell_type": "code",
   "execution_count": 69,
   "metadata": {
    "collapsed": false
   },
   "outputs": [
    {
     "name": "stdout",
     "output_type": "stream",
     "text": [
      "Create UAA Service\n",
      "secret code:········\n",
      "Creating service instance my-uaa in org cwinsor@gmail.com / space dev as cwinsor@gmail.com...\n",
      "OK\n",
      "\n",
      "MY_UAA_URL /v2/service_instances/01b0f4be-5186-4173-84d4-19c11ef47834\n",
      "MY_UAA_GUID01b0f4be-5186-4173-84d4-19c11ef47834\n",
      "{\n",
      "    \"entity\": {\n",
      "        \"credentials\": {},\n",
      "        \"dashboard_url\": null,\n",
      "        \"gateway_data\": null,\n",
      "        \"last_operation\": {\n",
      "            \"created_at\": \"2016-12-02T00:20:22Z\",\n",
      "            \"description\": \"\",\n",
      "            \"state\": \"succeeded\",\n",
      "            \"type\": \"create\",\n",
      "            \"updated_at\": null\n",
      "        },\n",
      "        \"name\": \"my-uaa\",\n",
      "        \"routes_url\": \"/v2/service_instances/01b0f4be-5186-4173-84d4-19c11ef47834/routes\",\n",
      "        \"service_bindings_url\": \"/v2/service_instances/01b0f4be-5186-4173-84d4-19c11ef47834/service_bindings\",\n",
      "        \"service_keys_url\": \"/v2/service_instances/01b0f4be-5186-4173-84d4-19c11ef47834/service_keys\",\n",
      "        \"service_plan_guid\": \"7b3e7f66-b1b8-448e-857e-79e2fde2e6c8\",\n",
      "        \"service_plan_url\": \"/v2/service_plans/7b3e7f66-b1b8-448e-857e-79e2fde2e6c8\",\n",
      "        \"space_guid\": \"f9c7e95d-76ad-477e-aaa8-ce8103b4e7cc\",\n",
      "        \"space_url\": \"/v2/spaces/f9c7e95d-76ad-477e-aaa8-ce8103b4e7cc\",\n",
      "        \"tags\": [],\n",
      "        \"type\": \"managed_service_instance\"\n",
      "    },\n",
      "    \"metadata\": {\n",
      "        \"created_at\": \"2016-12-02T00:20:22Z\",\n",
      "        \"guid\": \"01b0f4be-5186-4173-84d4-19c11ef47834\",\n",
      "        \"updated_at\": null,\n",
      "        \"url\": \"/v2/service_instances/01b0f4be-5186-4173-84d4-19c11ef47834\"\n",
      "    }\n",
      "}\n",
      "done\n"
     ]
    }
   ],
   "source": [
    "### Create UAA Service\n",
    "### cf create-service predix-uaa Free my-uaa -c '{\"adminClientSecret\":\"my-secret\"}'\n",
    "\n",
    "from subprocess import check_output\n",
    "import json\n",
    "\n",
    "print(\"Create UAA Service\")\n",
    "secret = getpass.getpass('secret code:')\n",
    "aa = \"\\\"adminClientSecret\\\"\"\n",
    "bb = \"\\\"\" + secret + \"\\\"\"\n",
    "cc = \"{\" + aa + \":\" + bb + \"}\"\n",
    "#print cc\n",
    "dd = [\"cf\", \"create-service\", \"predix-uaa\", \"Free\", \"my-uaa\", \"-c\", cc]\n",
    "#print dd\n",
    "foo = check_output(dd)\n",
    "print foo\n",
    "\n",
    "# now get the URL for the UAA\n",
    "root = json.loads(check_output([\"cf\", \"curl\", MY_PR_SERVICES_URL]))\n",
    "#print json.dumps(root, sort_keys=True, indent=4, separators=(',', ': '))\n",
    "# look for \"my-uaa\" service\n",
    "for num, line in enumerate(root[\"resources\"]):\n",
    "    if (line[\"entity\"][\"name\"] == \"my-uaa\"):\n",
    "        MY_UAA_URL  = line[\"metadata\"][\"url\"]\n",
    "        MY_UAA_GUID = line[\"metadata\"][\"guid\"]\n",
    "        break\n",
    "\n",
    "print \"MY_UAA_URL  \" + MY_UAA_URL\n",
    "print \"MY_UAA_GUID \" + MY_UAA_GUID\n",
    "root = json.loads(check_output([\"cf\", \"curl\", MY_UAA_URL]))\n",
    "#print root                 \n",
    "print json.dumps(root, sort_keys=True, indent=4, separators=(',', ': '))\n",
    "\n",
    "print \"done\"\n"
   ]
  },
  {
   "cell_type": "code",
   "execution_count": 70,
   "metadata": {
    "collapsed": true
   },
   "outputs": [],
   "source": [
    "'''\n",
    "cf env cwinsor.temp.html\n",
    "produces\n",
    " \"issuerId\": \"https://5b5428fa-4922-4be6-81ed-ad40a2a28f70.predix-uaa.run.aws-usw02-pr.ice.predix.io/oauth/token\",\n",
    "\n",
    "we want to find that using \"cf curl\"\n",
    "cf curl /v2/spaces\n",
    "produces\n",
    "[\"resources\"][0][\"metadata\"][\"url\"] = \"/v2/spaces/f9c7e95d-76ad-477e-aaa8-ce8103b4e7cc\",\n",
    "[\"resources\"][0][\"entity\"][\"name\"] = \"dev\"\n",
    "[\"resources\"][0][\"entity\"][\"apps_url\"] = \"/v2/spaces/f9c7e95d-76ad-477e-aaa8-ce8103b4e7cc/apps\",\n",
    "[\"resources\"][0][\"entity\"][\"service_instances_url\"] = \"/v2/spaces/f9c7e95d-76ad-477e-aaa8-ce8103b4e7cc/service_instances\",\n",
    "\n",
    "<first find the UAA service GUID>\n",
    "cf curl /v2/spaces/f9c7e95d-76ad-477e-aaa8-ce8103b4e7cc/service_instances\n",
    "produces\n",
    "[\"resources\"][0][\"entity\"][\"name\"]: \"my-uaa\"\n",
    "[\"resources\"][0][\"metadata\"][\"guid\"]: \"5b5428fa-4922-4be6-81ed-ad40a2a28f70\",\n",
    "\n",
    "<now that we have the UAA GUID - search for that in my app as a service...>\n",
    "cf curl /v2/spaces/f9c7e95d-76ad-477e-aaa8-ce8103b4e7cc/apps\n",
    "produces\n",
    "[\"resources\"][0][\"entity\"][\"name\"]: \"cwinsor.temp.html\"\n",
    "[\"resources\"][0][\"metadata\"][\"url\"]: \"/v2/apps/8508f927-aeb4-4f43-a62e-4348b13cb58d\",\n",
    "[\"resources\"][0][\"entity\"][\"service_bindings_url\"]: \"/v2/apps/8508f927-aeb4-4f43-a62e-4348b13cb58d/service_bindings\",\n",
    "\n",
    "cf curl /v2/apps/8508f927-aeb4-4f43-a62e-4348b13cb58d/service_bindings\n",
    "produces\n",
    "[\"resources\"][0][\"entity\"][service_instance_guid\": \"5b5428fa-4922-4be6-81ed-ad40a2a28f70\",\n",
    "[\"resources\"][0][\"entity\"][\"credentials\"][\"issuerId\"]: \"https://5b5428fa-4922-4be6-81ed-ad40a2a28f70.predix-uaa.run.aws-usw02-pr.ice.predix.io/oauth/token\",\n",
    "\n",
    "GOT IT !\n",
    "'''\n",
    "x = 1\n",
    "        "
   ]
  },
  {
   "cell_type": "code",
   "execution_count": 87,
   "metadata": {
    "collapsed": false
   },
   "outputs": [
    {
     "name": "stdout",
     "output_type": "stream",
     "text": [
      "create temporary application bound to UAA service\n",
      "search for service bindings URL\n",
      "MY_APP_SERVICE_BINDINGS_URL https://01b0f4be-5186-4173-84d4-19c11ef47834.predix-uaa.run.aws-usw02-pr.ice.predix.io/oauth/token\n",
      "done\n"
     ]
    }
   ],
   "source": [
    "### Create application bound to UAA service (to get parameters around the UAA service)\n",
    "\n",
    "print \"create temporary application bound to UAA service\"\n",
    "foo = check_output([\"echo\", \"\", \">\", \"cwinsor.temp.html\"])\n",
    "foo = check_output([\"cf\", \"push\", \"--no-start\", \"cwinsor.temp.html\"])\n",
    "foo = check_output([\"cf\", \"bs\", \"cwinsor.temp.html\", \"my-uaa\"])\n",
    "foo = check_output([\"cf\", \"env\", \"cwinsor.temp.html\"])\n",
    "\n",
    "# search for service bindings URL\n",
    "print \"search for service bindings URL\"\n",
    "root = json.loads(check_output([\"cf\", \"curl\", MY_PR_APPS_URL]))\n",
    "#print json.dumps(root, sort_keys=True, indent=4, separators=(',', ': '))\n",
    "for num, line in enumerate(root[\"resources\"]):\n",
    "    if (line[\"entity\"][\"name\"] == \"cwinsor.temp.html\"):\n",
    "        MY_APP_SERVICE_BINDINGS_URL = line[\"entity\"][\"service_bindings_url\"]\n",
    "        break\n",
    "\n",
    "# search in the service bindings for issuerID where the service_instance_guid is the UUA\n",
    "root = json.loads(check_output([\"cf\", \"curl\", MY_APP_SERVICE_BINDINGS_URL]))\n",
    "#print json.dumps(root, sort_keys=True, indent=4, separators=(',', ': '))\n",
    "for num, line in enumerate(root[\"resources\"]):\n",
    "    if (line[\"entity\"][\"service_instance_guid\"] == MY_UAA_GUID):\n",
    "        MY_APP_SERVICE_BINDINGS_URL = line[\"entity\"][\"credentials\"][\"issuerId\"]\n",
    "        break\n",
    "\n",
    "print \"MY_APP_SERVICE_BINDINGS_URL \" + MY_APP_SERVICE_BINDINGS_URL\n",
    "\n",
    "foo = check_output([\"cf\", \"delete\", \"-f\", \"cwinsor.temp.html\"])\n",
    "\n",
    "print \"done\""
   ]
  },
  {
   "cell_type": "code",
   "execution_count": null,
   "metadata": {
    "collapsed": true
   },
   "outputs": [],
   "source": [
    "# UAAC Targets UAA\n",
    "# The URL in the UAAC target command is the base URL of the UAA\n",
    "# 15> uaac target https://2edfb28e-e02c-4ae9-a7cd-818c263128d8.predix-uaa.run.aws-usw02-pr.ice.predix.io\n",
    "# 16> uaac token client get admin --secret my-secret # gets the admin token, NOT usable for asset\n",
    "\n",
    "\n",
    "print \"UAAC Targets UAA\"\n",
    "my_secret = getpass.getpass('secret code:')\n",
    "authorities = \"openid,uaa.none,uaa.resource,\" + \"predix-asset.zones.\" + MY_APP_ASSET_INSTANCE_ID + \".user\"\n",
    "scope = \"uaa.none,openid,\" + \"predix-asset.zones.\" + MY_APP_ASSET_INSTANCE_ID + \".user\"\n",
    "\n",
    "#authorities = [\"openid\",\"uaa.none\",\"uaa.resource\"]\n",
    "#scope = [\"uaa.none\",\"openid\"]\n",
    "       \n",
    "foo = check_output([\"uaac\",\n",
    "                    \"target\",\n",
    "                     MY_APP_SERVICE_BINDINGS_URL,\n",
    "                     MY_APP_SERVICE_BINDINGS_URL\n",
    "                    \n",
    "MY_UAA_URL /v2/service_instances/01b0f4be-5186-4173-84d4-19c11ef47834\n",
    "                    \n",
    "                    \"add\", \"asset-client\",\n",
    "                    \"--authorities\", authorities,\n",
    "                    \"--scope\", scope,\n",
    "                    \"--autoapprove\", \"openid\",\n",
    "                    \"--authorized_grant_types\", \"authorization_code,client_credentials,refresh_token,password\",\n",
    "                    \"--secret\", my_secret,\n",
    "                    \"--name\", \"asset-client\"])\n",
    "\n",
    "\n",
    "\n"
   ]
  },
  {
   "cell_type": "code",
   "execution_count": 72,
   "metadata": {
    "collapsed": false
   },
   "outputs": [
    {
     "name": "stdout",
     "output_type": "stream",
     "text": [
      "Create Asset Service\n",
      "MY_ASSET_URL /v2/service_instances/01b0f4be-5186-4173-84d4-19c11ef47834\n",
      "MY_ASSET_GUID 01b0f4be-5186-4173-84d4-19c11ef47834\n",
      "{\n",
      "    \"entity\": {\n",
      "        \"credentials\": {},\n",
      "        \"dashboard_url\": null,\n",
      "        \"gateway_data\": null,\n",
      "        \"last_operation\": {\n",
      "            \"created_at\": \"2016-12-02T00:21:20Z\",\n",
      "            \"description\": \"\",\n",
      "            \"state\": \"succeeded\",\n",
      "            \"type\": \"create\",\n",
      "            \"updated_at\": null\n",
      "        },\n",
      "        \"name\": \"my-asset\",\n",
      "        \"routes_url\": \"/v2/service_instances/998c3c4a-be3c-4e34-b8be-c71dc497554b/routes\",\n",
      "        \"service_bindings_url\": \"/v2/service_instances/998c3c4a-be3c-4e34-b8be-c71dc497554b/service_bindings\",\n",
      "        \"service_keys_url\": \"/v2/service_instances/998c3c4a-be3c-4e34-b8be-c71dc497554b/service_keys\",\n",
      "        \"service_plan_guid\": \"e08d80b5-6da3-4f29-a2f1-f7834d06cd29\",\n",
      "        \"service_plan_url\": \"/v2/service_plans/e08d80b5-6da3-4f29-a2f1-f7834d06cd29\",\n",
      "        \"space_guid\": \"f9c7e95d-76ad-477e-aaa8-ce8103b4e7cc\",\n",
      "        \"space_url\": \"/v2/spaces/f9c7e95d-76ad-477e-aaa8-ce8103b4e7cc\",\n",
      "        \"tags\": [],\n",
      "        \"type\": \"managed_service_instance\"\n",
      "    },\n",
      "    \"metadata\": {\n",
      "        \"created_at\": \"2016-12-02T00:21:20Z\",\n",
      "        \"guid\": \"998c3c4a-be3c-4e34-b8be-c71dc497554b\",\n",
      "        \"updated_at\": null,\n",
      "        \"url\": \"/v2/service_instances/998c3c4a-be3c-4e34-b8be-c71dc497554b\"\n",
      "    }\n",
      "}\n",
      "done\n"
     ]
    }
   ],
   "source": [
    "### Create Asset Service\n",
    "### cf create-service predix-asset Tiered my-asset -c '{\"trustedIssuerIds\":[\"https://2edfb28e-e02c-4ae9-a7cd-818c263128d8.predix-uaa.run.aws-usw02-pr.ice.predix.io/oauth/token\"]}'\n",
    "\n",
    "print(\"Create Asset Service\")\n",
    "trusted_issuer = json.dumps({\"trustedIssuerIds\": [MY_APP_SERVICE_BINDINGS_URL]})\n",
    "#print trusted_issuer\n",
    "foo = check_output([\"cf\", \"create-service\", \"predix-asset\", \"Tiered\", \"my-asset\", \"-c\", trusted_issuer])\n",
    "#print foo\n",
    "\n",
    "# now get the URL for the Asset\n",
    "root = json.loads(check_output([\"cf\", \"curl\", MY_PR_SERVICES_URL]))\n",
    "#print json.dumps(root, sort_keys=True, indent=4, separators=(',', ': '))\n",
    "# look for \"my-asset\" service\n",
    "for num, line in enumerate(root[\"resources\"]):\n",
    "    if (line[\"entity\"][\"name\"] == \"my-asset\"):\n",
    "        MY_ASSET_URL  = line[\"metadata\"][\"url\"]\n",
    "        MY_ASSET_GUID = line[\"metadata\"][\"guid\"]\n",
    "        break\n",
    "\n",
    "print \"MY_ASSET_URL \" + MY_UAA_URL\n",
    "print \"MY_ASSET_GUID \" + MY_UAA_GUID\n",
    "root = json.loads(check_output([\"cf\", \"curl\", MY_ASSET_URL]))\n",
    "#print root                 \n",
    "print json.dumps(root, sort_keys=True, indent=4, separators=(',', ': '))\n",
    "\n",
    "print \"done\""
   ]
  },
  {
   "cell_type": "code",
   "execution_count": 73,
   "metadata": {
    "collapsed": false
   },
   "outputs": [
    {
     "name": "stdout",
     "output_type": "stream",
     "text": [
      "create temporary application bound to Asset service\n",
      "search for service bindings URL\n",
      "{\n",
      "    \"next_url\": null,\n",
      "    \"prev_url\": null,\n",
      "    \"resources\": [\n",
      "        {\n",
      "            \"entity\": {\n",
      "                \"buildpack\": null,\n",
      "                \"command\": null,\n",
      "                \"console\": false,\n",
      "                \"debug\": null,\n",
      "                \"detected_buildpack\": null,\n",
      "                \"detected_buildpack_guid\": null,\n",
      "                \"detected_start_command\": \"\",\n",
      "                \"diego\": false,\n",
      "                \"disk_quota\": 1024,\n",
      "                \"docker_credentials_json\": {\n",
      "                    \"redacted_message\": \"[PRIVATE DATA HIDDEN]\"\n",
      "                },\n",
      "                \"docker_image\": null,\n",
      "                \"enable_ssh\": true,\n",
      "                \"environment_json\": {},\n",
      "                \"events_url\": \"/v2/apps/b3584d25-f737-404e-8a9e-e765f5bc89ba/events\",\n",
      "                \"health_check_timeout\": null,\n",
      "                \"health_check_type\": \"port\",\n",
      "                \"instances\": 1,\n",
      "                \"memory\": 256,\n",
      "                \"name\": \"cwinsor.temp.html\",\n",
      "                \"package_state\": \"PENDING\",\n",
      "                \"package_updated_at\": \"2016-12-02T00:21:43Z\",\n",
      "                \"ports\": null,\n",
      "                \"production\": false,\n",
      "                \"route_mappings_url\": \"/v2/apps/b3584d25-f737-404e-8a9e-e765f5bc89ba/route_mappings\",\n",
      "                \"routes_url\": \"/v2/apps/b3584d25-f737-404e-8a9e-e765f5bc89ba/routes\",\n",
      "                \"service_bindings_url\": \"/v2/apps/b3584d25-f737-404e-8a9e-e765f5bc89ba/service_bindings\",\n",
      "                \"space_guid\": \"f9c7e95d-76ad-477e-aaa8-ce8103b4e7cc\",\n",
      "                \"space_url\": \"/v2/spaces/f9c7e95d-76ad-477e-aaa8-ce8103b4e7cc\",\n",
      "                \"stack_guid\": \"b2482801-cd40-4f6b-9f59-e0647b872028\",\n",
      "                \"stack_url\": \"/v2/stacks/b2482801-cd40-4f6b-9f59-e0647b872028\",\n",
      "                \"staging_failed_description\": null,\n",
      "                \"staging_failed_reason\": null,\n",
      "                \"staging_task_id\": null,\n",
      "                \"state\": \"STOPPED\",\n",
      "                \"version\": \"6b3a8fe3-1941-4a67-a1a3-25a18b9f1c0f\"\n",
      "            },\n",
      "            \"metadata\": {\n",
      "                \"created_at\": \"2016-12-02T00:21:36Z\",\n",
      "                \"guid\": \"b3584d25-f737-404e-8a9e-e765f5bc89ba\",\n",
      "                \"updated_at\": \"2016-12-02T00:21:43Z\",\n",
      "                \"url\": \"/v2/apps/b3584d25-f737-404e-8a9e-e765f5bc89ba\"\n",
      "            }\n",
      "        }\n",
      "    ],\n",
      "    \"total_pages\": 1,\n",
      "    \"total_results\": 1\n",
      "}\n",
      "MY_APP_SERVICE_BINDINGS_URL /v2/apps/b3584d25-f737-404e-8a9e-e765f5bc89ba/service_bindings\n",
      "{\n",
      "    \"next_url\": null,\n",
      "    \"prev_url\": null,\n",
      "    \"resources\": [\n",
      "        {\n",
      "            \"entity\": {\n",
      "                \"app_guid\": \"b3584d25-f737-404e-8a9e-e765f5bc89ba\",\n",
      "                \"app_url\": \"/v2/apps/b3584d25-f737-404e-8a9e-e765f5bc89ba\",\n",
      "                \"binding_options\": {},\n",
      "                \"credentials\": {\n",
      "                    \"instanceId\": \"998c3c4a-be3c-4e34-b8be-c71dc497554b\",\n",
      "                    \"scriptEngine_uri\": \"https://998c3c4a-be3c-4e34-b8be-c71dc497554b.predix-script-engine.run.aws-usw02-pr.ice.predix.io\",\n",
      "                    \"uri\": \"https://predix-asset.run.aws-usw02-pr.ice.predix.io\",\n",
      "                    \"zone\": {\n",
      "                        \"http-header-name\": \"Predix-Zone-Id\",\n",
      "                        \"http-header-value\": \"998c3c4a-be3c-4e34-b8be-c71dc497554b\",\n",
      "                        \"oauth-scope\": \"predix-asset.zones.998c3c4a-be3c-4e34-b8be-c71dc497554b.user\"\n",
      "                    }\n",
      "                },\n",
      "                \"gateway_data\": null,\n",
      "                \"gateway_name\": \"\",\n",
      "                \"service_instance_guid\": \"998c3c4a-be3c-4e34-b8be-c71dc497554b\",\n",
      "                \"service_instance_url\": \"/v2/service_instances/998c3c4a-be3c-4e34-b8be-c71dc497554b\",\n",
      "                \"syslog_drain_url\": null,\n",
      "                \"volume_mounts\": []\n",
      "            },\n",
      "            \"metadata\": {\n",
      "                \"created_at\": \"2016-12-02T00:21:51Z\",\n",
      "                \"guid\": \"cb2997e2-480b-474d-be60-5e8925883ee9\",\n",
      "                \"updated_at\": null,\n",
      "                \"url\": \"/v2/service_bindings/cb2997e2-480b-474d-be60-5e8925883ee9\"\n",
      "            }\n",
      "        }\n",
      "    ],\n",
      "    \"total_pages\": 1,\n",
      "    \"total_results\": 1\n",
      "}\n",
      "MY_APP_ASSET_INSTANCE_ID 998c3c4a-be3c-4e34-b8be-c71dc497554b\n",
      "done\n"
     ]
    }
   ],
   "source": [
    "### Create application bound to Asset service (to get parameters around the Asset service)\n",
    "\n",
    "print \"create temporary application bound to Asset service\"\n",
    "foo = check_output([\"echo\", \"\", \">\", \"cwinsor.temp.html\"])\n",
    "foo = check_output([\"cf\", \"push\", \"--no-start\", \"cwinsor.temp.html\"])\n",
    "foo = check_output([\"cf\", \"bs\", \"cwinsor.temp.html\", \"my-asset\"])\n",
    "foo = check_output([\"cf\", \"env\", \"cwinsor.temp.html\"])\n",
    "\n",
    "# search for service bindings URL\n",
    "print \"search for service bindings URL\"\n",
    "root = json.loads(check_output([\"cf\", \"curl\", MY_PR_APPS_URL]))\n",
    "print json.dumps(root, sort_keys=True, indent=4, separators=(',', ': '))\n",
    "for num, line in enumerate(root[\"resources\"]):\n",
    "    if (line[\"entity\"][\"name\"] == \"cwinsor.temp.html\"):\n",
    "        MY_APP_SERVICE_BINDINGS_URL = line[\"entity\"][\"service_bindings_url\"]\n",
    "        break\n",
    "\n",
    "print \"MY_APP_SERVICE_BINDINGS_URL \" + MY_APP_SERVICE_BINDINGS_URL\n",
    "\n",
    "# search in the service bindings for service instance with Asset GUID\n",
    "root = json.loads(check_output([\"cf\", \"curl\", MY_APP_SERVICE_BINDINGS_URL]))\n",
    "print json.dumps(root, sort_keys=True, indent=4, separators=(',', ': '))\n",
    "for num, line in enumerate(root[\"resources\"]):\n",
    "    if (line[\"entity\"][\"service_instance_guid\"] == MY_ASSET_GUID):\n",
    "        MY_APP_ASSET_INSTANCE_ID = line[\"entity\"][\"credentials\"][\"instanceId\"]\n",
    "        break\n",
    "\n",
    "print \"MY_APP_ASSET_INSTANCE_ID \" + MY_APP_ASSET_INSTANCE_ID\n",
    "\n",
    "print \"done\""
   ]
  },
  {
   "cell_type": "code",
   "execution_count": 104,
   "metadata": {
    "collapsed": false
   },
   "outputs": [
    {
     "name": "stdout",
     "output_type": "stream",
     "text": [
      "UAAC Targets UAA\n",
      "secret code:········\n",
      "xxxxx\n"
     ]
    },
    {
     "ename": "TypeError",
     "evalue": "__init__() got multiple values for keyword argument 'stdout'",
     "output_type": "error",
     "traceback": [
      "\u001b[0;31m---------------------------------------------------------------------------\u001b[0m",
      "\u001b[0;31mTypeError\u001b[0m                                 Traceback (most recent call last)",
      "\u001b[0;32m<ipython-input-104-4c643cc9899f>\u001b[0m in \u001b[0;36m<module>\u001b[0;34m()\u001b[0m\n\u001b[1;32m     15\u001b[0m \u001b[0;31m# 16> uaac token client get admin --secret my-secret # gets the admin token, NOT usable for asset\u001b[0m\u001b[0;34m\u001b[0m\u001b[0;34m\u001b[0m\u001b[0m\n\u001b[1;32m     16\u001b[0m \u001b[0;31m#foo = check_output(\"uaac\",\"token\",\"client\",\"get\",\"admin\",\"--secret\", my_secret)\u001b[0m\u001b[0;34m\u001b[0m\u001b[0;34m\u001b[0m\u001b[0m\n\u001b[0;32m---> 17\u001b[0;31m \u001b[0mfoo\u001b[0m \u001b[0;34m=\u001b[0m \u001b[0mcheck_output\u001b[0m\u001b[0;34m(\u001b[0m\u001b[0;34m\"uaac\"\u001b[0m\u001b[0;34m,\u001b[0m\u001b[0;34m\"token\"\u001b[0m\u001b[0;34m,\u001b[0m\u001b[0;34m\"client\"\u001b[0m\u001b[0;34m,\u001b[0m\u001b[0;34m\"get\"\u001b[0m\u001b[0;34m,\u001b[0m\u001b[0;34m\"admin\"\u001b[0m\u001b[0;34m,\u001b[0m \u001b[0;34m\"--secret\"\u001b[0m\u001b[0;34m,\u001b[0m \u001b[0;34m\"xxxxx\"\u001b[0m\u001b[0;34m)\u001b[0m\u001b[0;34m\u001b[0m\u001b[0m\n\u001b[0m\u001b[1;32m     18\u001b[0m \u001b[0;34m\u001b[0m\u001b[0m\n\u001b[1;32m     19\u001b[0m \u001b[0;32mprint\u001b[0m \u001b[0mfoo\u001b[0m\u001b[0;34m\u001b[0m\u001b[0m\n",
      "\u001b[0;32m/usr/lib64/python2.7/subprocess.pyc\u001b[0m in \u001b[0;36mcheck_output\u001b[0;34m(*popenargs, **kwargs)\u001b[0m\n\u001b[1;32m    566\u001b[0m     \u001b[0;32mif\u001b[0m \u001b[0;34m'stdout'\u001b[0m \u001b[0;32min\u001b[0m \u001b[0mkwargs\u001b[0m\u001b[0;34m:\u001b[0m\u001b[0;34m\u001b[0m\u001b[0m\n\u001b[1;32m    567\u001b[0m         \u001b[0;32mraise\u001b[0m \u001b[0mValueError\u001b[0m\u001b[0;34m(\u001b[0m\u001b[0;34m'stdout argument not allowed, it will be overridden.'\u001b[0m\u001b[0;34m)\u001b[0m\u001b[0;34m\u001b[0m\u001b[0m\n\u001b[0;32m--> 568\u001b[0;31m     \u001b[0mprocess\u001b[0m \u001b[0;34m=\u001b[0m \u001b[0mPopen\u001b[0m\u001b[0;34m(\u001b[0m\u001b[0mstdout\u001b[0m\u001b[0;34m=\u001b[0m\u001b[0mPIPE\u001b[0m\u001b[0;34m,\u001b[0m \u001b[0;34m*\u001b[0m\u001b[0mpopenargs\u001b[0m\u001b[0;34m,\u001b[0m \u001b[0;34m**\u001b[0m\u001b[0mkwargs\u001b[0m\u001b[0;34m)\u001b[0m\u001b[0;34m\u001b[0m\u001b[0m\n\u001b[0m\u001b[1;32m    569\u001b[0m     \u001b[0moutput\u001b[0m\u001b[0;34m,\u001b[0m \u001b[0munused_err\u001b[0m \u001b[0;34m=\u001b[0m \u001b[0mprocess\u001b[0m\u001b[0;34m.\u001b[0m\u001b[0mcommunicate\u001b[0m\u001b[0;34m(\u001b[0m\u001b[0;34m)\u001b[0m\u001b[0;34m\u001b[0m\u001b[0m\n\u001b[1;32m    570\u001b[0m     \u001b[0mretcode\u001b[0m \u001b[0;34m=\u001b[0m \u001b[0mprocess\u001b[0m\u001b[0;34m.\u001b[0m\u001b[0mpoll\u001b[0m\u001b[0;34m(\u001b[0m\u001b[0;34m)\u001b[0m\u001b[0;34m\u001b[0m\u001b[0m\n",
      "\u001b[0;31mTypeError\u001b[0m: __init__() got multiple values for keyword argument 'stdout'"
     ]
    }
   ],
   "source": [
    "# UAAC Targets UAA\n",
    "# The URL in the UAAC target command is the base URL of the UAA. \n",
    "# 15> uaac target https://2edfb28e-e02c-4ae9-a7cd-818c263128d8.predix-uaa.run.aws-usw02-pr.ice.predix.io\n",
    "# 16> uaac token client get admin --secret my-secret # gets the admin token, NOT usable for asset\n",
    "\n",
    "#print MY_APP_SERVICE_BINDINGS_URL\n",
    "\n",
    "print \"UAAC Targets UAA\"\n",
    "\n",
    "bindings_url = MY_APP_SERVICE_BINDINGS_URL.split(\"/oauth/token\")\n",
    "foo = check_output([\"uaac\", \"target\", bindings_url[0]])\n",
    "\n",
    "my_secret = getpass.getpass('secret code:')\n",
    "print my_secret\n",
    "# 16> uaac token client get admin --secret my-secret # gets the admin token, NOT usable for asset\n",
    "#foo = check_output(\"uaac\",\"token\",\"client\",\"get\",\"admin\",\"--secret\", my_secret)\n",
    "foo = check_output(\"uaac\",\"token\",\"client\",\"get\",\"admin\", \"--secret\", \"xxxxx\")\n",
    "\n",
    "print foo\n",
    "\n",
    "\n",
    "\n",
    "#MY_APP_SERVICE_BINDINGS_URL /v2/apps/5722127e-1f0e-4044-a2ed-d0122c7a9db3/service_bindings\n",
    "#MY_APP_SERVICE_BINDINGS_URL https://01b0f4be-5186-4173-84d4-19c11ef47834.predix-uaa.run.aws-usw02-pr.ice.predix.io/oauth/token\n",
    "print \"done\"\n",
    "\n",
    "\n"
   ]
  },
  {
   "cell_type": "code",
   "execution_count": null,
   "metadata": {
    "collapsed": true
   },
   "outputs": [],
   "source": [
    "\n"
   ]
  },
  {
   "cell_type": "code",
   "execution_count": 105,
   "metadata": {
    "collapsed": false
   },
   "outputs": [
    {
     "ename": "OSError",
     "evalue": "[Errno 2] No such file or directory",
     "output_type": "error",
     "traceback": [
      "\u001b[0;31m---------------------------------------------------------------------------\u001b[0m",
      "\u001b[0;31mOSError\u001b[0m                                   Traceback (most recent call last)",
      "\u001b[0;32m<ipython-input-105-239c0c02dc0a>\u001b[0m in \u001b[0;36m<module>\u001b[0;34m()\u001b[0m\n\u001b[1;32m      3\u001b[0m \u001b[0mfw\u001b[0m \u001b[0;34m=\u001b[0m \u001b[0mopen\u001b[0m\u001b[0;34m(\u001b[0m\u001b[0;34m\"tmpout\"\u001b[0m\u001b[0;34m,\u001b[0m \u001b[0;34m\"wb\"\u001b[0m\u001b[0;34m)\u001b[0m\u001b[0;34m\u001b[0m\u001b[0m\n\u001b[1;32m      4\u001b[0m \u001b[0mfr\u001b[0m \u001b[0;34m=\u001b[0m \u001b[0mopen\u001b[0m\u001b[0;34m(\u001b[0m\u001b[0;34m\"tmpout\"\u001b[0m\u001b[0;34m,\u001b[0m \u001b[0;34m\"r\"\u001b[0m\u001b[0;34m)\u001b[0m\u001b[0;34m\u001b[0m\u001b[0m\n\u001b[0;32m----> 5\u001b[0;31m \u001b[0mp\u001b[0m \u001b[0;34m=\u001b[0m \u001b[0mPopen\u001b[0m\u001b[0;34m(\u001b[0m\u001b[0;34m\"./a.out\"\u001b[0m\u001b[0;34m,\u001b[0m \u001b[0mstdin\u001b[0m \u001b[0;34m=\u001b[0m \u001b[0mPIPE\u001b[0m\u001b[0;34m,\u001b[0m \u001b[0mstdout\u001b[0m \u001b[0;34m=\u001b[0m \u001b[0mfw\u001b[0m\u001b[0;34m,\u001b[0m \u001b[0mstderr\u001b[0m \u001b[0;34m=\u001b[0m \u001b[0mfw\u001b[0m\u001b[0;34m,\u001b[0m \u001b[0mbufsize\u001b[0m \u001b[0;34m=\u001b[0m \u001b[0;36m1\u001b[0m\u001b[0;34m)\u001b[0m\u001b[0;34m\u001b[0m\u001b[0m\n\u001b[0m\u001b[1;32m      6\u001b[0m \u001b[0mp\u001b[0m\u001b[0;34m.\u001b[0m\u001b[0mstdin\u001b[0m\u001b[0;34m.\u001b[0m\u001b[0mwrite\u001b[0m\u001b[0;34m(\u001b[0m\u001b[0;34m\"1\\n\"\u001b[0m\u001b[0;34m)\u001b[0m\u001b[0;34m\u001b[0m\u001b[0m\n\u001b[1;32m      7\u001b[0m \u001b[0mout\u001b[0m \u001b[0;34m=\u001b[0m \u001b[0mfr\u001b[0m\u001b[0;34m.\u001b[0m\u001b[0mread\u001b[0m\u001b[0;34m(\u001b[0m\u001b[0;34m)\u001b[0m\u001b[0;34m\u001b[0m\u001b[0m\n",
      "\u001b[0;32m/usr/lib64/python2.7/subprocess.pyc\u001b[0m in \u001b[0;36m__init__\u001b[0;34m(self, args, bufsize, executable, stdin, stdout, stderr, preexec_fn, close_fds, shell, cwd, env, universal_newlines, startupinfo, creationflags)\u001b[0m\n\u001b[1;32m    709\u001b[0m                                 \u001b[0mp2cread\u001b[0m\u001b[0;34m,\u001b[0m \u001b[0mp2cwrite\u001b[0m\u001b[0;34m,\u001b[0m\u001b[0;34m\u001b[0m\u001b[0m\n\u001b[1;32m    710\u001b[0m                                 \u001b[0mc2pread\u001b[0m\u001b[0;34m,\u001b[0m \u001b[0mc2pwrite\u001b[0m\u001b[0;34m,\u001b[0m\u001b[0;34m\u001b[0m\u001b[0m\n\u001b[0;32m--> 711\u001b[0;31m                                 errread, errwrite)\n\u001b[0m\u001b[1;32m    712\u001b[0m         \u001b[0;32mexcept\u001b[0m \u001b[0mException\u001b[0m\u001b[0;34m:\u001b[0m\u001b[0;34m\u001b[0m\u001b[0m\n\u001b[1;32m    713\u001b[0m             \u001b[0;31m# Preserve original exception in case os.close raises.\u001b[0m\u001b[0;34m\u001b[0m\u001b[0;34m\u001b[0m\u001b[0m\n",
      "\u001b[0;32m/usr/lib64/python2.7/subprocess.pyc\u001b[0m in \u001b[0;36m_execute_child\u001b[0;34m(self, args, executable, preexec_fn, close_fds, cwd, env, universal_newlines, startupinfo, creationflags, shell, to_close, p2cread, p2cwrite, c2pread, c2pwrite, errread, errwrite)\u001b[0m\n\u001b[1;32m   1325\u001b[0m                         \u001b[0;32mraise\u001b[0m\u001b[0;34m\u001b[0m\u001b[0m\n\u001b[1;32m   1326\u001b[0m                 \u001b[0mchild_exception\u001b[0m \u001b[0;34m=\u001b[0m \u001b[0mpickle\u001b[0m\u001b[0;34m.\u001b[0m\u001b[0mloads\u001b[0m\u001b[0;34m(\u001b[0m\u001b[0mdata\u001b[0m\u001b[0;34m)\u001b[0m\u001b[0;34m\u001b[0m\u001b[0m\n\u001b[0;32m-> 1327\u001b[0;31m                 \u001b[0;32mraise\u001b[0m \u001b[0mchild_exception\u001b[0m\u001b[0;34m\u001b[0m\u001b[0m\n\u001b[0m\u001b[1;32m   1328\u001b[0m \u001b[0;34m\u001b[0m\u001b[0m\n\u001b[1;32m   1329\u001b[0m \u001b[0;34m\u001b[0m\u001b[0m\n",
      "\u001b[0;31mOSError\u001b[0m: [Errno 2] No such file or directory"
     ]
    }
   ],
   "source": [
    "from subprocess import Popen, PIPE\n",
    "from subprocess import check_output\n",
    "\n",
    "\n",
    "fw = open(\"tmpout\", \"wb\")\n",
    "fr = open(\"tmpout\", \"r\")\n",
    "p = Popen(\"./a.out\", stdin = PIPE, stdout = fw, stderr = fw, bufsize = 1)\n",
    "p.stdin.write(\"1\\n\")\n",
    "out = fr.read()\n",
    "p.stdin.write(\"5\\n\")\n",
    "out = fr.read()\n",
    "fw.close()\n",
    "fr.close()\n"
   ]
  },
  {
   "cell_type": "code",
   "execution_count": 95,
   "metadata": {
    "collapsed": false
   },
   "outputs": [
    {
     "name": "stdout",
     "output_type": "stream",
     "text": [
      "['ice cr', 'm']\n"
     ]
    }
   ],
   "source": [
    " \n",
    "\n",
    "src = \"ice cream\"\n",
    "blah = src.split(\"ea\")\n",
    "print blah\n"
   ]
  },
  {
   "cell_type": "code",
   "execution_count": 85,
   "metadata": {
    "collapsed": false
   },
   "outputs": [
    {
     "name": "stdout",
     "output_type": "stream",
     "text": [
      "Add UAAC Client\n",
      "secret code:········\n"
     ]
    },
    {
     "ename": "CalledProcessError",
     "evalue": "Command '['uaac', 'client', 'add', 'asset-client', '--authorities', u'openid,uaa.none,uaa.resource,predix-asset.zones.998c3c4a-be3c-4e34-b8be-c71dc497554b.user', '--scope', u'uaa.none,openid,predix-asset.zones.998c3c4a-be3c-4e34-b8be-c71dc497554b.user', '--autoapprove', 'openid', '--authorized_grant_types', 'authorization_code,client_credentials,refresh_token,password', '--secret', 'xxxxx', '--name', 'asset-client']' returned non-zero exit status 1",
     "output_type": "error",
     "traceback": [
      "\u001b[0;31m---------------------------------------------------------------------------\u001b[0m",
      "\u001b[0;31mCalledProcessError\u001b[0m                        Traceback (most recent call last)",
      "\u001b[0;32m<ipython-input-85-eb0ff13ddd8f>\u001b[0m in \u001b[0;36m<module>\u001b[0;34m()\u001b[0m\n\u001b[1;32m     25\u001b[0m                     \u001b[0;34m\"--authorized_grant_types\"\u001b[0m\u001b[0;34m,\u001b[0m \u001b[0;34m\"authorization_code,client_credentials,refresh_token,password\"\u001b[0m\u001b[0;34m,\u001b[0m\u001b[0;34m\u001b[0m\u001b[0m\n\u001b[1;32m     26\u001b[0m                     \u001b[0;34m\"--secret\"\u001b[0m\u001b[0;34m,\u001b[0m \u001b[0mmy_secret\u001b[0m\u001b[0;34m,\u001b[0m\u001b[0;34m\u001b[0m\u001b[0m\n\u001b[0;32m---> 27\u001b[0;31m                     \"--name\", \"asset-client\"])\n\u001b[0m\u001b[1;32m     28\u001b[0m \u001b[0;34m\u001b[0m\u001b[0m\n\u001b[1;32m     29\u001b[0m \u001b[0;32mprint\u001b[0m \u001b[0mfoo\u001b[0m\u001b[0;34m\u001b[0m\u001b[0m\n",
      "\u001b[0;32m/usr/lib64/python2.7/subprocess.pyc\u001b[0m in \u001b[0;36mcheck_output\u001b[0;34m(*popenargs, **kwargs)\u001b[0m\n\u001b[1;32m    573\u001b[0m         \u001b[0;32mif\u001b[0m \u001b[0mcmd\u001b[0m \u001b[0;32mis\u001b[0m \u001b[0mNone\u001b[0m\u001b[0;34m:\u001b[0m\u001b[0;34m\u001b[0m\u001b[0m\n\u001b[1;32m    574\u001b[0m             \u001b[0mcmd\u001b[0m \u001b[0;34m=\u001b[0m \u001b[0mpopenargs\u001b[0m\u001b[0;34m[\u001b[0m\u001b[0;36m0\u001b[0m\u001b[0;34m]\u001b[0m\u001b[0;34m\u001b[0m\u001b[0m\n\u001b[0;32m--> 575\u001b[0;31m         \u001b[0;32mraise\u001b[0m \u001b[0mCalledProcessError\u001b[0m\u001b[0;34m(\u001b[0m\u001b[0mretcode\u001b[0m\u001b[0;34m,\u001b[0m \u001b[0mcmd\u001b[0m\u001b[0;34m,\u001b[0m \u001b[0moutput\u001b[0m\u001b[0;34m=\u001b[0m\u001b[0moutput\u001b[0m\u001b[0;34m)\u001b[0m\u001b[0;34m\u001b[0m\u001b[0m\n\u001b[0m\u001b[1;32m    576\u001b[0m     \u001b[0;32mreturn\u001b[0m \u001b[0moutput\u001b[0m\u001b[0;34m\u001b[0m\u001b[0m\n\u001b[1;32m    577\u001b[0m \u001b[0;34m\u001b[0m\u001b[0m\n",
      "\u001b[0;31mCalledProcessError\u001b[0m: Command '['uaac', 'client', 'add', 'asset-client', '--authorities', u'openid,uaa.none,uaa.resource,predix-asset.zones.998c3c4a-be3c-4e34-b8be-c71dc497554b.user', '--scope', u'uaa.none,openid,predix-asset.zones.998c3c4a-be3c-4e34-b8be-c71dc497554b.user', '--autoapprove', 'openid', '--authorized_grant_types', 'authorization_code,client_credentials,refresh_token,password', '--secret', 'xxxxx', '--name', 'asset-client']' returned non-zero exit status 1"
     ]
    }
   ],
   "source": [
    "# Add UAAC Client\n",
    "'''\n",
    "uaac client add asset-client \n",
    "--authorities openid,uaa.none,uaa.resource,predix-asset.zones.6827f028-5b6b-439e-ae08-9587cedb6f56.user\n",
    "--scope uaa.none,openid,predix-asset.zones.6827f028-5b6b-439e-ae08-9587cedb6f56.user\n",
    "--autoapprove openid\n",
    "--authorized_grant_types authorization_code,client_credentials,refresh_token,password\n",
    "--secret my-secret\n",
    "--name asset-client\n",
    "'''\n",
    "\n",
    "print \"Add UAAC Client\"\n",
    "my_secret = getpass.getpass('secret code:')\n",
    "authorities = \"openid,uaa.none,uaa.resource,\" + \"predix-asset.zones.\" + MY_APP_ASSET_INSTANCE_ID + \".user\"\n",
    "scope = \"uaa.none,openid,\" + \"predix-asset.zones.\" + MY_APP_ASSET_INSTANCE_ID + \".user\"\n",
    "\n",
    "#authorities = [\"openid\",\"uaa.none\",\"uaa.resource\"]\n",
    "#scope = [\"uaa.none\",\"openid\"]\n",
    "       \n",
    "foo = check_output([\"uaac\", \"client\",\n",
    "                    \"add\", \"asset-client\",\n",
    "                    \"--authorities\", authorities,\n",
    "                    \"--scope\", scope,\n",
    "                    \"--autoapprove\", \"openid\",\n",
    "                    \"--authorized_grant_types\", \"authorization_code,client_credentials,refresh_token,password\",\n",
    "                    \"--secret\", my_secret,\n",
    "                    \"--name\", \"asset-client\"])\n",
    "\n",
    "print foo\n",
    "#want\n",
    "#str = '\n",
    "#uaac client\n",
    "#add asset-client\n",
    "#--authorities openid,uaa.none,uaa.resource,predix-asset.zones.6827f028-5b6b-439e-ae08-9587cedb6f56.user\n",
    "#--scope uaa.none,openid,predix-asset.zones.6827f028-5b6b-439e-ae08-9587cedb6f56.user\n",
    "#--autoapprove openid\n",
    "#--authorized_grant_types authorization_code,client_credentials,refresh_token,password\n",
    "#--secret my-secret\n",
    "#--name asset-client'\n",
    "\n",
    "#'uaac client add asset-client --authorities openid,uaa.none,uaa.resource,predix-asset.zones.6827f028-5b6b-439e-ae08-9587cedb6f56.user --scope uaa.none,openid,predix-asset.zones.6827f028-5b6b-439e-ae08-9587cedb6f56.user --autoapprove openid --authorized_grant_types authorization_code,client_credentials,refresh_token,password --secret my-secret --name asset-client\n",
    "#'uaac client add asset-client --authorities openid,uaa.none,uaa.resource,predix-asset.zones.998c3c4a-be3c-4e34-b8be-c71dc497554b.user --scope uaa.none,openid,predix-asset.zones.998c3c4a-be3c-4e34-b8be-c71dc497554b.user --autoapprove openid --authorized_grant_types authorization_code,client_credentials,refresh_token,password --name asset-client\n",
    "\n",
    "#998c3c4a-be3c-4e34-b8be-c71dc497554b.\n",
    "\n"
   ]
  },
  {
   "cell_type": "code",
   "execution_count": 76,
   "metadata": {
    "collapsed": false
   },
   "outputs": [
    {
     "name": "stdout",
     "output_type": "stream",
     "text": [
      "UAA client 3.4.0\n",
      "\n"
     ]
    }
   ],
   "source": [
    "foo = check_output([\"uaac\", \"client\", \"--version\"])\n",
    "print foo\n"
   ]
  },
  {
   "cell_type": "code",
   "execution_count": 84,
   "metadata": {
    "collapsed": false
   },
   "outputs": [
    {
     "name": "stdout",
     "output_type": "stream",
     "text": [
      "openid,uaa.none,uaa.resource,predix-asset.zones.998c3c4a-be3c-4e34-b8be-c71dc497554b.user\n"
     ]
    }
   ],
   "source": [
    "\n",
    "foo = authorities = [\"openid\",\"uaa.none\",\"uaa.resource\",\" + \"predix-asset.zones.\" + MY_APP_ASSET_INSTANCE_ID + \".user\"\n",
    "print foo\n"
   ]
  },
  {
   "cell_type": "code",
   "execution_count": null,
   "metadata": {
    "collapsed": true
   },
   "outputs": [],
   "source": []
  }
 ],
 "metadata": {
  "kernelspec": {
   "display_name": "Python 2",
   "language": "python",
   "name": "python2"
  },
  "language_info": {
   "codemirror_mode": {
    "name": "ipython",
    "version": 2
   },
   "file_extension": ".py",
   "mimetype": "text/x-python",
   "name": "python",
   "nbconvert_exporter": "python",
   "pygments_lexer": "ipython2",
   "version": "2.7.5"
  }
 },
 "nbformat": 4,
 "nbformat_minor": 1
}

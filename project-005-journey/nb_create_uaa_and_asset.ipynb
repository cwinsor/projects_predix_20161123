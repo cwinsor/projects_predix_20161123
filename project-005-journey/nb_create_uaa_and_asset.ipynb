{
 "cells": [
  {
   "cell_type": "code",
   "execution_count": 82,
   "metadata": {
    "collapsed": false
   },
   "outputs": [],
   "source": [
    "from subprocess import call\n",
    "from subprocess import check_call\n",
    "from subprocess import check_output"
   ]
  },
  {
   "cell_type": "code",
   "execution_count": 35,
   "metadata": {
    "collapsed": false
   },
   "outputs": [],
   "source": [
    "# subprocess.call(args, *, stdin=None, stdout=None, stderr=None, shell=False)\n",
    "#myIn = open(\"std_in.txt\", \"r\") \n",
    "#myOut = open(\"std_out.txt\", \"w\") \n",
    "#myErr = open(\"std_err.txt\", \"w\") \n",
    "#call([\"ls\", \"-la\"], 0, stdin=myIn, stdout=myOut, stderr=myErr)"
   ]
  },
  {
   "cell_type": "code",
   "execution_count": 14,
   "metadata": {
    "collapsed": false
   },
   "outputs": [
    {
     "name": "stdout",
     "output_type": "stream",
     "text": [
      "CloudForge username: cwinsor@gmail.com\n",
      "password:········\n",
      "API endpoint: https://api.system.aws-usw02-pr.ice.predix.io\n",
      "Authenticating...\n",
      "OK\n",
      "\n",
      "Targeted org cwinsor@gmail.com\n",
      "\n",
      "Targeted space dev\n",
      "\n",
      "\n",
      "\n",
      "API endpoint:   https://api.system.aws-usw02-pr.ice.predix.io (API version: 2.62.0)\n",
      "User:           cwinsor@gmail.com\n",
      "Org:            cwinsor@gmail.com\n",
      "Space:          dev\n",
      "\n"
     ]
    }
   ],
   "source": [
    "import getpass\n",
    "from subprocess import check_output\n",
    "\n",
    "MY_PR_API_ENDPOINT = \"https://api.system.aws-usw02-pr.ice.predix.io\"\n",
    "\n",
    "u = raw_input('CloudForge username:')\n",
    "p = getpass.getpass(\"password:\")\n",
    "\n",
    "#myIn = open(\"std_in.txt\", \"r\") \n",
    "#myOut = open(\"std_out.txt\", \"w\") \n",
    "#myErr = open(\"std_err.txt\", \"w\") \n",
    "\n",
    "#call([\"ls\", \"-la\"], 0, stdin=myIn, stdout=myOut, stderr=myErr)\n",
    "\n",
    "foo = check_output([\"cf\", \"login\", \"-u\", u, \"-p\", p])\n",
    "print foo    \n",
    "\n",
    "\n"
   ]
  },
  {
   "cell_type": "code",
   "execution_count": 34,
   "metadata": {
    "collapsed": false
   },
   "outputs": [
    {
     "name": "stdout",
     "output_type": "stream",
     "text": [
      "secret code for UAA: ········\n",
      "Creating service instance my-uaa in org cwinsor@gmail.com / space dev as cwinsor@gmail.com...\n",
      "OK\n",
      "Service my-uaa already exists\n",
      "\n"
     ]
    }
   ],
   "source": [
    "### Create UAA Service\n",
    "### cf create-service predix-uaa Free my-uaa -c '{\"adminClientSecret\":\"my-secret\"}'\n",
    "\n",
    "secret = getpass.getpass('secret code for UAA: ')\n",
    "aa = \"\\\"adminClientSecret\\\"\"\n",
    "bb = \"\\\"\" + secret + \"\\\"\"\n",
    "cc = \"{\" + aa + \":\" + bb + \"}\"\n",
    "#print cc\n",
    "dd = [\"cf\", \"create-service\", \"predix-uaa\", \"Free\", \"my-uaa\", \"-c\", cc]\n",
    "#print dd\n",
    "foo = check_output(dd)\n",
    "print foo"
   ]
  },
  {
   "cell_type": "code",
   "execution_count": 38,
   "metadata": {
    "collapsed": false
   },
   "outputs": [
    {
     "name": "stdout",
     "output_type": "stream",
     "text": [
      "/predix/Documents/projects_predix_20161123/project-005-journey\n",
      "\n"
     ]
    }
   ],
   "source": [
    "### Get UAA Vitals\n",
    "MY_PR_APPNAME = \"cwinsor.temp.html\"\n",
    "foo = check_output([\"echo\", \"'blah'\", \">\", MY_PR_APPNAME])\n",
    "\n",
    "foo = check_output([\"echo\", \"---\", \">>\", \"manifest.yml\"])\n",
    "foo = check_output([\"echo\", \"applications:\", \">>\", \"manifest.yml\"])\n",
    "foo = check_output([\"echo\", \"  - name: cwinsor-005-predix-journey\", \">>\", \"manifest.yml\"])\n",
    "foo = check_output([\"echo\", \"    memory: 256M\", \">>\", \"manifest.yml\"])\n",
    "        \n",
    "foo = check_output([\"pwd\"])\n",
    "print foo\n"
   ]
  },
  {
   "cell_type": "code",
   "execution_count": null,
   "metadata": {
    "collapsed": true
   },
   "outputs": [],
   "source": []
  }
 ],
 "metadata": {
  "kernelspec": {
   "display_name": "Python 2",
   "language": "python",
   "name": "python2"
  },
  "language_info": {
   "codemirror_mode": {
    "name": "ipython",
    "version": 2
   },
   "file_extension": ".py",
   "mimetype": "text/x-python",
   "name": "python",
   "nbconvert_exporter": "python",
   "pygments_lexer": "ipython2",
   "version": "2.7.5"
  }
 },
 "nbformat": 4,
 "nbformat_minor": 1
}

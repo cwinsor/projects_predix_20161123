{
 "cells": [
  {
   "cell_type": "code",
   "execution_count": 8,
   "metadata": {
    "collapsed": false
   },
   "outputs": [],
   "source": [
    "'''\n",
    "This Notebook demonstrates UAA and Asset cloudFoundary services.\n",
    "A simple web-based application is used to demonstrate their use. \n",
    "\n",
    "The python-based script uses:\n",
    "    cloudFoundry cli, api, curl\n",
    "    python subprocess (standard library)\n",
    "    json (python standard library)\n",
    "    UAA and GE Asset micrososervices\n",
    "\n",
    "References:\n",
    "Based on the example at\n",
    "    https://www.predix.io/blog/article.html?article_id=2034\n",
    "with additional information from \n",
    "    http://stackoverflow.com/questions/27985469/how-to-get-oauth-token-from-cloudfoundry\n",
    "    https://docs.python.org/3.7/reference/index.html\n",
    "    https://docs.python.org/3.7/library/index.html\n",
    "'''\n",
    "\n",
    "x=1"
   ]
  },
  {
   "cell_type": "code",
   "execution_count": 9,
   "metadata": {
    "collapsed": true
   },
   "outputs": [],
   "source": [
    "'''\n",
    "Procedure:\n",
    "\n",
    "Login\n",
    "1> mkdir ~/tempForBlog1; cd ~/tempForBlog1\n",
    "2> cf login\n",
    "\n",
    "Create UAA Service\n",
    "3> cf create-service predix-uaa Tiered my-uaa -c '{\"adminClientSecret\":\"my-secret\"}'\n",
    "\n",
    "Get UAA Vitals\n",
    "4> appname=`whoami`.temp.html # need unique name\n",
    "5> touch $appname\n",
    "6> cf push --no-start $appname\n",
    "7> cf bs $appname my-uaa \n",
    "8> cf env $appname # Output is environment variables\n",
    "9> cf delete $appname --f\n",
    "\n",
    "Create Asset Service\n",
    "10> cf create-service predix-asset Tiered my-asset -c '{\"trustedIssuerIds\":[\"https://2edfb28e-e02c-4ae9-a7cd-818c263128d8.predix-uaa.run.aws-usw02-pr.ice.predix.io/oauth/token\"]}'\n",
    "\n",
    "Get Asset Vitals\n",
    "11> touch $appname\n",
    "12> cf push --no-start $appname\n",
    "13> cf bs $appname my-asset\n",
    "14> cf env $appname\n",
    "\n",
    "UAAC Targets UAA\n",
    "15> uaac target https://2edfb28e-e02c-4ae9-a7cd-818c263128d8.predix-uaa.run.aws-usw02-pr.ice.predix.io\n",
    "16> uaac token client get admin --secret my-secret # gets the admin token, NOT usable for asset\n",
    "\n",
    "Add UAAC Client\n",
    "17> uaac client add asset-client --authorities openid,uaa.none,uaa.resource,predix-asset.zones.6827f028-5b6b-439e-ae08-9587cedb6f56.user --scope uaa.none,openid,predix-asset.zones.6827f028-5b6b-439e-ae08-9587cedb6f56.user --autoapprove openid --authorized_grant_types authorization_code,client_credentials,refresh_token,password --secret my-secret --name asset-client\n",
    "\n",
    "Specific commands:\n",
    "\n",
    "As outlined above a dummy app is created as means to get the \"issuerId\".  In order to script this it\n",
    "is necessary to reproducing the process using cf curl.  This involves tracing JSON urls to find it.\n",
    "The final target is:\n",
    "cf env cwinsor.temp.html ...\n",
    " \"issuerId\": \"https://5b5428fa-4922-4be6-81ed-ad40a2a28f70.predix-uaa.run.aws-usw02-pr.ice.predix.io/oauth/token\",\n",
    "\n",
    "To reproduce:\n",
    "cf curl /v2/spaces\n",
    "produces\n",
    "[\"resources\"][0][\"metadata\"][\"url\"] = \"/v2/spaces/f9c7e95d-76ad-477e-aaa8-ce8103b4e7cc\",\n",
    "[\"resources\"][0][\"entity\"][\"name\"] = \"dev\"\n",
    "[\"resources\"][0][\"entity\"][\"apps_url\"] = \"/v2/spaces/f9c7e95d-76ad-477e-aaa8-ce8103b4e7cc/apps\",\n",
    "[\"resources\"][0][\"entity\"][\"service_instances_url\"] = \"/v2/spaces/f9c7e95d-76ad-477e-aaa8-ce8103b4e7cc/service_instances\",\n",
    "\n",
    "<first find the UAA service GUID>\n",
    "cf curl /v2/spaces/f9c7e95d-76ad-477e-aaa8-ce8103b4e7cc/service_instances\n",
    "produces\n",
    "[\"resources\"][0][\"entity\"][\"name\"]: \"my-uaa\"\n",
    "[\"resources\"][0][\"metadata\"][\"guid\"]: \"5b5428fa-4922-4be6-81ed-ad40a2a28f70\",\n",
    "\n",
    "<now that we have the UAA GUID - search for that in my app as a service...>\n",
    "cf curl /v2/spaces/f9c7e95d-76ad-477e-aaa8-ce8103b4e7cc/apps\n",
    "produces\n",
    "[\"resources\"][0][\"entity\"][\"name\"]: \"cwinsor.temp.html\"\n",
    "[\"resources\"][0][\"metadata\"][\"url\"]: \"/v2/apps/8508f927-aeb4-4f43-a62e-4348b13cb58d\",\n",
    "[\"resources\"][0][\"entity\"][\"service_bindings_url\"]: \"/v2/apps/8508f927-aeb4-4f43-a62e-4348b13cb58d/service_bindings\",\n",
    "\n",
    "cf curl /v2/apps/8508f927-aeb4-4f43-a62e-4348b13cb58d/service_bindings\n",
    "produces\n",
    "[\"resources\"][0][\"entity\"][service_instance_guid\": \"5b5428fa-4922-4be6-81ed-ad40a2a28f70\",\n",
    "[\"resources\"][0][\"entity\"][\"credentials\"][\"issuerId\"]: \"https://5b5428fa-4922-4be6-81ed-ad40a2a28f70.predix-uaa.run.aws-usw02-pr.ice.predix.io/oauth/token\",\n",
    "\n",
    "'''\n",
    "x = 1"
   ]
  },
  {
   "cell_type": "code",
   "execution_count": 10,
   "metadata": {
    "collapsed": false
   },
   "outputs": [
    {
     "name": "stdout",
     "output_type": "stream",
     "text": [
      "Log in\n",
      "username:cwinsor@gmail.com\n",
      "password:········\n",
      "MY_DEV_SPACE_URL: /v2/spaces/f9c7e95d-76ad-477e-aaa8-ce8103b4e7cc\n",
      "MY_APPS_URL: /v2/spaces/f9c7e95d-76ad-477e-aaa8-ce8103b4e7cc/apps\n",
      "MY_SERVICES_URL: /v2/spaces/f9c7e95d-76ad-477e-aaa8-ce8103b4e7cc/service_instances\n",
      "done\n"
     ]
    }
   ],
   "source": [
    "### Log In\n",
    "\n",
    "import getpass\n",
    "import subprocess\n",
    "import json\n",
    "\n",
    "print(\"Log in\")\n",
    "finished = False\n",
    "while not finished:\n",
    "    subprocess.call([\"cf\", \"logout\"])\n",
    "    u = raw_input(\"username:\")\n",
    "    p = getpass.getpass(\"password:\")\n",
    "    proc = subprocess.Popen([\"cf\", \"login\", \"-s\", \"dev\", \"-u\", u, \"-p\", p],\n",
    "                        shell=False,\n",
    "                        stdin=subprocess.PIPE,\n",
    "                        stdout=subprocess.PIPE,\n",
    "                        stderr=subprocess.PIPE,\n",
    "                        )\n",
    "    stdout_value, stderr_value = proc.communicate()\n",
    "    #print '\\tstdout: ', repr(stdout_value)\n",
    "    #print '\\tstderr: ', repr(stderr_value)\n",
    "    #print '\\tproc.returncode: ', proc.returncode\n",
    "    if proc.returncode == 0:\n",
    "        finished = True\n",
    "    else:\n",
    "        print \"login failed\"\n",
    "\n",
    "# squirrel away URLs for the space, apps and services\n",
    "temp_p = json.loads(check_output([\"cf\", \"curl\", \"/v2/spaces\"]))\n",
    "for num, line in enumerate(temp_p[\"resources\"]):\n",
    "    if (line[\"entity\"][\"name\"] == \"dev\"):\n",
    "        MY_DEV_SPACE_URL = line[\"metadata\"][\"url\"]\n",
    "        MY_APPS_URL      = line[\"entity\"][\"apps_url\"]\n",
    "        MY_SERVICES_URL  = line[\"entity\"][\"service_instances_url\"]\n",
    "        \n",
    "print (\"MY_DEV_SPACE_URL: \" + MY_DEV_SPACE_URL)\n",
    "print (\"MY_APPS_URL: \" +  MY_APPS_URL)\n",
    "print (\"MY_SERVICES_URL: \" +  MY_SERVICES_URL)\n",
    "print \"done\""
   ]
  },
  {
   "cell_type": "code",
   "execution_count": 11,
   "metadata": {
    "collapsed": false
   },
   "outputs": [
    {
     "name": "stdout",
     "output_type": "stream",
     "text": [
      "Creating UAA Service...\n",
      "secret code:········\n",
      "Creating service instance my-uaa in org cwinsor@gmail.com / space dev as cwinsor@gmail.com...\n",
      "OK\n",
      "\n",
      "done\n"
     ]
    }
   ],
   "source": [
    "# Create UAA Service\n",
    "# 3> cf create-service predix-uaa Tiered my-uaa -c '{\"adminClientSecret\":\"my-secret\"}'\n",
    "\n",
    "from subprocess import check_output\n",
    "\n",
    "print \"Creating UAA Service...\"\n",
    "secret = getpass.getpass('secret code:')\n",
    "aa = \"\\\"adminClientSecret\\\"\"\n",
    "bb = \"\\\"\" + secret + \"\\\"\"\n",
    "cc = \"{\" + aa + \":\" + bb + \"}\"\n",
    "#print cc\n",
    "dd = [\"cf\", \"create-service\", \"predix-uaa\", \"Free\", \"my-uaa\", \"-c\", cc]\n",
    "#print dd\n",
    "foo = check_output(dd)\n",
    "print foo\n",
    "\n",
    "print \"done\""
   ]
  },
  {
   "cell_type": "code",
   "execution_count": 14,
   "metadata": {
    "collapsed": false
   },
   "outputs": [
    {
     "name": "stdout",
     "output_type": "stream",
     "text": [
      "Get UAA vitals (will take a few seconds...)\n",
      "MY_UAA_SERVICE_URL:/v2/service_instances/e3728699-10f8-4c2d-b496-d794267e0ecf\n",
      "MY_UAA_SERVICE_GUID: e3728699-10f8-4c2d-b496-d794267e0ecf\n",
      "MY_UAA_CREDENTIALS_ISSUER_ID: https://e3728699-10f8-4c2d-b496-d794267e0ecf.predix-uaa.run.aws-usw02-pr.ice.predix.io/oauth/token\n",
      "done\n"
     ]
    }
   ],
   "source": [
    "# Get uaa vitals\n",
    "# We need to get the environment variables of our new UAA.\n",
    "# One way to accomplish that is to bind to a dummy application.\n",
    "# Here we create a simple empty html file to serve as our dummy app.\n",
    "\n",
    "import subprocess\n",
    "import json\n",
    "\n",
    "print \"Get UAA vitals (will take a few seconds...)\"\n",
    "# create a temporary application\n",
    "subprocess.check_call([\"echo\", \"\", \">\", \"cwinsor.temp.html\"])\n",
    "subprocess.check_call([\"cf\", \"push\", \"--no-start\", \"cwinsor.temp.html\"])\n",
    "subprocess.check_call([\"cf\", \"bs\", \"cwinsor.temp.html\", \"my-uaa\"])\n",
    "subprocess.check_call([\"cf\", \"env\", \"cwinsor.temp.html\"])\n",
    "\n",
    "# we now will use that application to get environment variables relating to UAA\n",
    "\n",
    "# find the UAA service GUID\n",
    "# starting from the services URL, and search for my-uaa\n",
    "# then from that URL get the GUID\n",
    "temp_p = json.loads(check_output([\"cf\", \"curl\", MY_SERVICES_URL]))\n",
    "for num, line in enumerate(temp_p[\"resources\"]):\n",
    "    if (line[\"entity\"][\"name\"] == \"my-uaa\"):\n",
    "        MY_UAA_SERVICE_URL = line[\"metadata\"][\"url\"]\n",
    "print (\"MY_UAA_SERVICE_URL:\" + MY_UAA_SERVICE_URL)\n",
    "temp_p = json.loads(check_output([\"cf\", \"curl\", MY_UAA_SERVICE_URL]))\n",
    "MY_UAA_SERVICE_GUID = temp_p[\"metadata\"][\"guid\"]\n",
    "print (\"MY_UAA_SERVICE_GUID: \" + MY_UAA_SERVICE_GUID)\n",
    "\n",
    "# find the app\n",
    "temp_p = json.loads(check_output([\"cf\", \"curl\", MY_APPS_URL]))\n",
    "#print json.dumps(temp_p, sort_keys=True, indent=4, separators=(',', ': '))\n",
    "for num, line in enumerate(temp_p[\"resources\"]):\n",
    "    if (line[\"entity\"][\"name\"] == \"cwinsor.temp.html\"):\n",
    "        MY_APP_1_URL = line[\"metadata\"][\"url\"]\n",
    "#print (\"MY_APP_1_URL:\" + MY_APP_1_URL)\n",
    "\n",
    "# find the issuerId of the service instance matching the UAA service\n",
    "temp_p = json.loads(check_output([\"cf\", \"curl\", MY_APP_1_URL]))\n",
    "#print json.dumps(temp_p, sort_keys=True, indent=4, separators=(',', ': '))\n",
    "MY_APP_1_SERVICE_BINDINGS_URL = temp_p[\"entity\"][\"service_bindings_url\"]\n",
    "#print (\"MY_APP_1_SERVICE_BINDINGS_URL: \" + MY_APP_1_SERVICE_BINDINGS_URL)\n",
    "\n",
    "temp_p = json.loads(check_output([\"cf\", \"curl\", MY_APP_1_SERVICE_BINDINGS_URL]))\n",
    "for num, line in enumerate(temp_p[\"resources\"]):\n",
    "    if (line[\"entity\"][\"service_instance_guid\"] == MY_UAA_SERVICE_GUID):\n",
    "        MY_UAA_CREDENTIALS_ISSUER_ID = line[\"entity\"][\"credentials\"][\"issuerId\"]\n",
    "print (\"MY_UAA_CREDENTIALS_ISSUER_ID: \" + MY_UAA_CREDENTIALS_ISSUER_ID)\n",
    "\n",
    "# delete the app\n",
    "subprocess.check_call([\"cf\", \"delete\", \"cwinsor.temp.html\", \"-f\"])\n",
    "\n",
    "print \"done\""
   ]
  },
  {
   "cell_type": "code",
   "execution_count": 15,
   "metadata": {
    "collapsed": false
   },
   "outputs": [
    {
     "name": "stdout",
     "output_type": "stream",
     "text": [
      "Creating Asset Service...\n",
      "done\n"
     ]
    }
   ],
   "source": [
    "# Create Asset Service\n",
    "# 10> cf create-service predix-asset Tiered my-asset -c '{\"trustedIssuerIds\":[\"https://2edfb28e-e02c-4ae9-a7cd-818c263128d8.predix-uaa.run.aws-usw02-pr.ice.predix.io/oauth/token\"]}'\n",
    "\n",
    "from subprocess import check_output\n",
    "\n",
    "print \"Creating Asset Service...\"\n",
    "issuer_id = json.dumps({\"trustedIssuerIds\": [MY_UAA_CREDENTIALS_ISSUER_ID]})\n",
    "foo = check_output([\"cf\", \"create-service\", \"predix-asset\", \"Tiered\", \"my-asset\", \"-c\", issuer_id])\n",
    "\n",
    "print \"done\""
   ]
  },
  {
   "cell_type": "code",
   "execution_count": 16,
   "metadata": {
    "collapsed": false
   },
   "outputs": [
    {
     "name": "stdout",
     "output_type": "stream",
     "text": [
      "Get Asset vitals (will take a few seconds...)\n",
      "MY_ASSET_SERVICE_URL: /v2/service_instances/d718b52b-93ed-493f-b128-d77648fd7d4a\n",
      "MY_ASSET_SERVICE_GUID: d718b52b-93ed-493f-b128-d77648fd7d4a\n",
      "MY_APP_1_URL:/v2/apps/1071557c-409f-4434-822b-adf30b0eda4f\n",
      "MY_APP_1_SERVICE_BINDINGS_URL: /v2/apps/1071557c-409f-4434-822b-adf30b0eda4f/service_bindings\n",
      "MY_ASSET_SERVICE_URI: https://predix-asset.run.aws-usw02-pr.ice.predix.io\n",
      "done\n"
     ]
    }
   ],
   "source": [
    "# Get Asset vitals\n",
    "# We need to get the environment variables of our Asset.\n",
    "# One way to accomplish that is to bind to a dummy application.\n",
    "# Here we create a simple empty html file to serve as our dummy app.\n",
    "\n",
    "import subprocess\n",
    "import json\n",
    "\n",
    "print \"Get Asset vitals (will take a few seconds...)\"\n",
    "# create a temporary application\n",
    "subprocess.check_call([\"echo\", \"\", \">\", \"cwinsor.temp.html\"])\n",
    "subprocess.check_call([\"cf\", \"push\", \"--no-start\", \"cwinsor.temp.html\"])\n",
    "subprocess.check_call([\"cf\", \"bs\", \"cwinsor.temp.html\", \"my-asset\"])\n",
    "subprocess.check_call([\"cf\", \"env\", \"cwinsor.temp.html\"])\n",
    "\n",
    "# squirrel away the URL for the Asset Service\n",
    "temp_p = json.loads(check_output([\"cf\", \"curl\", MY_SERVICES_URL]))\n",
    "for num, line in enumerate(temp_p[\"resources\"]):\n",
    "    if (line[\"entity\"][\"name\"] == \"my-asset\"):\n",
    "        MY_ASSET_SERVICE_URL = line[\"metadata\"][\"url\"]\n",
    "print (\"MY_ASSET_SERVICE_URL: \" + MY_ASSET_SERVICE_URL)\n",
    "temp_p = json.loads(check_output([\"cf\", \"curl\", MY_ASSET_SERVICE_URL]))\n",
    "#print json.dumps(temp_p, sort_keys=True, indent=4, separators=(',', ': '))\n",
    "\n",
    "MY_ASSET_SERVICE_GUID = temp_p[\"metadata\"][\"guid\"]\n",
    "print (\"MY_ASSET_SERVICE_GUID: \" + MY_ASSET_SERVICE_GUID)\n",
    "\n",
    "\n",
    "# find the app\n",
    "temp_p = json.loads(check_output([\"cf\", \"curl\", MY_APPS_URL]))\n",
    "#print json.dumps(temp_p, sort_keys=True, indent=4, separators=(',', ': '))\n",
    "\n",
    "for num, line in enumerate(temp_p[\"resources\"]):\n",
    "    if (line[\"entity\"][\"name\"] == \"cwinsor.temp.html\"):\n",
    "        MY_APP_1_URL = line[\"metadata\"][\"url\"]\n",
    "print (\"MY_APP_1_URL:\" + MY_APP_1_URL)\n",
    "temp_p = json.loads(check_output([\"cf\", \"curl\", MY_APP_1_URL]))\n",
    "#print json.dumps(temp_p, sort_keys=True, indent=4, separators=(',', ': '))\n",
    "\n",
    "MY_APP_1_SERVICE_BINDINGS_URL = temp_p[\"entity\"][\"service_bindings_url\"]\n",
    "print (\"MY_APP_1_SERVICE_BINDINGS_URL: \" + MY_APP_1_SERVICE_BINDINGS_URL)\n",
    "temp_p = json.loads(check_output([\"cf\", \"curl\", MY_APP_1_SERVICE_BINDINGS_URL]))\n",
    "#print json.dumps(temp_p, sort_keys=True, indent=4, separators=(',', ': '))\n",
    "\n",
    "for num, line in enumerate(temp_p[\"resources\"]):\n",
    "    if (line[\"entity\"][\"credentials\"][\"instanceId\"] == MY_ASSET_SERVICE_GUID):\n",
    "        MY_ASSET_SERVICE_URI = line[\"entity\"][\"credentials\"][\"uri\"]\n",
    "print (\"MY_ASSET_SERVICE_URI: \" + MY_ASSET_SERVICE_URI)\n",
    "print \"done\""
   ]
  },
  {
   "cell_type": "code",
   "execution_count": 17,
   "metadata": {
    "collapsed": false
   },
   "outputs": [
    {
     "name": "stdout",
     "output_type": "stream",
     "text": [
      "UAAC Targets UAA\n",
      "UAAC secret:········\n",
      "done\n"
     ]
    }
   ],
   "source": [
    "# UAAC Targets UAA\n",
    "\n",
    "import subprocess\n",
    "import json\n",
    "import getpass\n",
    "\n",
    "print \"UAAC Targets UAA\"\n",
    "uaa_credentials_issuer = MY_UAA_CREDENTIALS_ISSUER_ID.split(\"/oauth/token\")\n",
    "subprocess.check_call([\"uaac\", \"target\", uaa_credentials_issuer[0]])\n",
    "\n",
    "my_secret = getpass.getpass(\"UAAC secret:\")\n",
    "subprocess.check_call([\"uaac\", \"token\", \"client\", \"get\", \"admin\", \"--secret\", my_secret])\n",
    "\n",
    "print \"done\"\n",
    "    "
   ]
  },
  {
   "cell_type": "code",
   "execution_count": 18,
   "metadata": {
    "collapsed": false
   },
   "outputs": [
    {
     "name": "stdout",
     "output_type": "stream",
     "text": [
      "Add UAAC Client\n",
      "UAAC secret:········\n",
      "done\n"
     ]
    }
   ],
   "source": [
    "# Add UAAC Client\n",
    "# We need to use the instance id of Asset, sometimes called the Predix zone id\n",
    "\n",
    "# 17> uaac client add asset-client --authorities openid,uaa.none,uaa.resource,predix-asset.zones.6827f028-5b6b-439e-ae08-9587cedb6f56.user --scope uaa.none,openid,predix-asset.zones.6827f028-5b6b-439e-ae08-9587cedb6f56.user --autoapprove openid --authorized_grant_types authorization_code,client_credentials,refresh_token,password --secret my-secret --name asset-client\n",
    "\n",
    "import subprocess\n",
    "import json\n",
    "import getpass\n",
    "\n",
    "print \"Add UAAC Client\"\n",
    "my_secret = getpass.getpass(\"UAAC secret:\")\n",
    "instanceid = \"predix-asset.zones.\" + MY_ASSET_SERVICE_GUID + \".user\"\n",
    "l = [\"uaac\",\n",
    "     \"client\",\n",
    "     \"add\",\n",
    "     \"asset-client\",\n",
    "     \"--authorities\",\n",
    "     \"openid,uaa.none,uaa.resource,\" + instanceid,\n",
    "     \"--scope\",\n",
    "     \"uaa.none,openid,\" + instanceid,\n",
    "     \"--autoapprove\",\n",
    "     \"openid\",\n",
    "     \"--authorized_grant_types\",\n",
    "     \"authorization_code,client_credentials,refresh_token,password\",\n",
    "     \"--secret\",\n",
    "     my_secret,\n",
    "     \"--name\",\n",
    "     \"asset-client\"]\n",
    "\n",
    "subprocess.check_call(l)\n",
    "print \"done\""
   ]
  },
  {
   "cell_type": "code",
   "execution_count": 19,
   "metadata": {
    "collapsed": false
   },
   "outputs": [
    {
     "name": "stdout",
     "output_type": "stream",
     "text": [
      "Get Then Display The Token\n",
      "UAAC secret:········\n",
      "MY_BEARER_ACCESS_TOKEN: eyJhbGciOiJSUzI1NiIsImtpZCI6ImxlZ2FjeS10b2tlbi1rZXkiLCJ0eXAiOiJKV1QifQ.eyJqdGkiOiJhNTc3M2JmNDhhYWE0NWE2YjMxMGQzYzM3NDEyNGZiOSIsInN1YiI6ImFzc2V0LWNsaWVudCIsInNjb3BlIjpbInByZWRpeC1hc3NldC56b25lcy5kNzE4YjUyYi05M2VkLTQ5M2YtYjEyOC1kNzc2NDhmZDdkNGEudXNlciIsInVhYS5yZXNvdXJjZSIsIm9wZW5pZCIsInVhYS5ub25lIl0sImNsaWVudF9pZCI6ImFzc2V0LWNsaWVudCIsImNpZCI6ImFzc2V0LWNsaWVudCIsImF6cCI6ImFzc2V0LWNsaWVudCIsImdyYW50X3R5cGUiOiJjbGllbnRfY3JlZGVudGlhbHMiLCJyZXZfc2lnIjoiZTY0OTE4ZDYiLCJpYXQiOjE0ODExNTI2MzcsImV4cCI6MTQ4MTE5NTgzNywiaXNzIjoiaHR0cHM6Ly9lMzcyODY5OS0xMGY4LTRjMmQtYjQ5Ni1kNzk0MjY3ZTBlY2YucHJlZGl4LXVhYS5ydW4uYXdzLXVzdzAyLXByLmljZS5wcmVkaXguaW8vb2F1dGgvdG9rZW4iLCJ6aWQiOiJlMzcyODY5OS0xMGY4LTRjMmQtYjQ5Ni1kNzk0MjY3ZTBlY2YiLCJhdWQiOlsidWFhIiwiYXNzZXQtY2xpZW50Iiwib3BlbmlkIiwicHJlZGl4LWFzc2V0LnpvbmVzLmQ3MThiNTJiLTkzZWQtNDkzZi1iMTI4LWQ3NzY0OGZkN2Q0YSJdfQ.QLrhhADchg4UcX1rg9tPTafR75ebXIgyJKyalY6txqZn1rhWrjtOnGAYg9AjxXtTxH_0-0sYpRymwJxr44POZuvD8sQmgjXOLQdVck7nCejuLi9cUKlfE4zz7NvDeiZf1nnuBYFeO1RGx4DpTErUxbcYzZiJpzr7hzbkqOSQqG6EHM6-IqhomhR9cRcoWZspSss2_EkMjJdTb_8km4vOyhGW2-qmabAgVwUrz9JYXdHVp-g2xISv879uXD4cTPeEKMW4GX55ICVj-lH1BVvvPOJ8M4-A7vwf389CtY2CLonRqU7qkxPp_EY2q_S7vwxSRewETTjwcql2Tt1U_6qUNA\n",
      "done\n"
     ]
    }
   ],
   "source": [
    "# Get Then Display The Token\n",
    "import subprocess\n",
    "\n",
    "#18> uaac token client get asset-client --secret my-secret # if token expires then do this again\n",
    "#19> uaac context\n",
    "\n",
    "print \"Get Then Display The Token\"\n",
    "my_secret = getpass.getpass(\"UAAC secret:\")\n",
    "\n",
    "subprocess.check_call([\"uaac\", \"token\", \"client\", \"get\", \"asset-client\", \"--secret\", my_secret])\n",
    "foo = check_output([\"uaac\", \"context\"])\n",
    "#print(json.dumps(temp_p, sort_keys=True, indent=4, separators=(',', ': ')))\n",
    "#print foo\n",
    "bar1 = foo.split(\"access_token: \")\n",
    "bar2 = bar1[1].split(\"\\n\")\n",
    "MY_BEARER_ACCESS_TOKEN = bar2[0]\n",
    "print (\"MY_BEARER_ACCESS_TOKEN: \" + MY_BEARER_ACCESS_TOKEN)\n",
    "print \"done\"\n"
   ]
  },
  {
   "cell_type": "code",
   "execution_count": 20,
   "metadata": {
    "collapsed": false
   },
   "outputs": [
    {
     "name": "stdout",
     "output_type": "stream",
     "text": [
      "Validation By Talking To Asset\n",
      "\tstdout: '[]'\n",
      "\tstdout: ''\n",
      "\tstdout: '[\\n  {\\n    \"uri\": \"/tests/my-first-test\",\\n    \"foo\": true,\\n    \"bar\": [\\n      34,\\n      56\\n    ]\\n  }\\n]'\n",
      "\tstdout: '[{\"collection\":\"tests\",\"count\":1}]'\n",
      "done\n"
     ]
    }
   ],
   "source": [
    "# Validation By Talking To Asset\n",
    "print \"Validation By Talking To Asset\"\n",
    "\n",
    "#foo3 = [\"curl\",\n",
    "#        \"-H\", [predix-zone-id: \" + MY_ASSET_SERVICE_GUID + \"\"\",\n",
    "#       \"-H\", \"\\\"Authorization: bearer \" + MY_BEARER_ACCESS_TOKEN + \"\\\"\",\n",
    "#        MY_ASSET_SERVICE_URI]\n",
    "#bar = check_output(foo3)\n",
    "#print bar\n",
    "\n",
    "#print \"command 1\"\n",
    "THE_CMD  = \" curl \"\n",
    "ZONE_HDR = \" -H \\\"predix-zone-id: \" + MY_ASSET_SERVICE_GUID + \"\\\" \"\n",
    "AUTH_HDR = \" -H \\\"Authorization: bearer \" + MY_BEARER_ACCESS_TOKEN + \"\\\" \"\n",
    "THE_URI  = MY_ASSET_SERVICE_URI\n",
    "\n",
    "proc = subprocess.Popen(THE_CMD + ZONE_HDR + AUTH_HDR + THE_URI,\n",
    "                        shell=True,\n",
    "                        stdin=subprocess.PIPE,\n",
    "                        stdout=subprocess.PIPE,\n",
    "                        stderr=subprocess.PIPE,\n",
    "                        )\n",
    "stdout_value, stderr_value = proc.communicate()\n",
    "print '\\tstdout:', repr(stdout_value)\n",
    "#print '\\tstderr:', repr(stderr_value)\n",
    "\n",
    "\n",
    "#curl -X POST -d '[{ \"uri\": \"/tests/my-first-test\", \"foo\": true, \"bar\": [34,56] }]'\n",
    "#curl -X POST -d '[{ \"uri\": \"/tests/my-first-test\", \"foo\": true, \"bar\": [34,56] }]' \n",
    "#-H \"Content-Type: application/json\"\n",
    "#-H \"predix-zone-id: 87af97a0-c4a9-49fd-a002-240aacb3c540\"\n",
    "#-H \"Authorization: <BEARER-TOKEN>\"\n",
    "#https://predix-asset.run.aws-usw02-pr.ice.predix.io/tests\n",
    "\n",
    "#print \"command 2\"\n",
    "THE_CMD  = ' curl -X POST -d \\'[{ \"uri\": \"/tests/my-first-test\", \"foo\": true, \"bar\": [34,56] }]\\' '\n",
    "CONT_HDR = \" -H \\\"Content-Type: application/json\\\" \"\n",
    "ZONE_HDR = \" -H \\\"predix-zone-id: \" + MY_ASSET_SERVICE_GUID + \"\\\" \"\n",
    "AUTH_HDR = \" -H \\\"Authorization: bearer \" + MY_BEARER_ACCESS_TOKEN + \"\\\" \"\n",
    "THE_URI  = MY_ASSET_SERVICE_URI + \"/tests \"\n",
    "\n",
    "proc = subprocess.Popen(THE_CMD + CONT_HDR + ZONE_HDR + AUTH_HDR + THE_URI,\n",
    "                        shell=True,\n",
    "                        stdin=subprocess.PIPE,\n",
    "                        stdout=subprocess.PIPE,\n",
    "                        stderr=subprocess.PIPE,\n",
    "                        )\n",
    "stdout_value, stderr_value = proc.communicate()\n",
    "print '\\tstdout:', repr(stdout_value)\n",
    "#print '\\tstderr:', repr(stderr_value)\n",
    "\n",
    "\n",
    "# curl -H \"predix-zone-id: 87af97a0-c4a9-49fd-a002-240aacb3c540\" -H \"Authorization: <BEARER-TOKEN>\" https://predix-asset.run.aws-usw02-pr.ice.predix.io/tests/my-first-test\n",
    "#print \"command 3\"\n",
    "THE_CMD  = ' curl '\n",
    "ZONE_HDR = \" -H \\\"predix-zone-id: \" + MY_ASSET_SERVICE_GUID + \"\\\" \"\n",
    "AUTH_HDR = \" -H \\\"Authorization: bearer \" + MY_BEARER_ACCESS_TOKEN + \"\\\" \"\n",
    "THE_URI  = MY_ASSET_SERVICE_URI + \"/tests/my-first-test \"\n",
    "\n",
    "proc = subprocess.Popen(THE_CMD + ZONE_HDR + AUTH_HDR + THE_URI,\n",
    "                        shell=True,\n",
    "                        stdin=subprocess.PIPE,\n",
    "                        stdout=subprocess.PIPE,\n",
    "                        stderr=subprocess.PIPE,\n",
    "                        )\n",
    "stdout_value, stderr_value = proc.communicate()\n",
    "print '\\tstdout:', repr(stdout_value)\n",
    "#print '\\tstderr:', repr(stderr_value)\n",
    "\n",
    "\n",
    "# curl -H \"predix-zone-id: 5aacd7de-f6da-42f6-8e3f-6c6c6dd595fd\" -H \"Authorization: <BEARER-TOKEN>\" https://predix-asset.run.aws-usw02-pr.ice.predix.io \n",
    "\n",
    "#print \"command 4\"\n",
    "THE_CMD  = ' curl '\n",
    "ZONE_HDR = \" -H \\\"predix-zone-id: \" + MY_ASSET_SERVICE_GUID + \"\\\" \"\n",
    "AUTH_HDR = \" -H \\\"Authorization: bearer \" + MY_BEARER_ACCESS_TOKEN + \"\\\" \"\n",
    "THE_URI  = MY_ASSET_SERVICE_URI\n",
    "\n",
    "proc = subprocess.Popen(THE_CMD + ZONE_HDR + AUTH_HDR + THE_URI,\n",
    "                        shell=True,\n",
    "                        stdin=subprocess.PIPE,\n",
    "                        stdout=subprocess.PIPE,\n",
    "                        stderr=subprocess.PIPE,\n",
    "                        )\n",
    "stdout_value, stderr_value = proc.communicate()\n",
    "print '\\tstdout:', repr(stdout_value)\n",
    "#print '\\tstderr:', repr(stderr_value)\n",
    "\n",
    "print \"done\""
   ]
  },
  {
   "cell_type": "code",
   "execution_count": 34,
   "metadata": {
    "collapsed": true
   },
   "outputs": [],
   "source": [
    "\n",
    "#xxxxxxxxxxxxxxxxxxxxxxxxxxxxxxxx\n",
    "#xxxxxxxxxxxxxxxxxxxxxxxxxxxxxxxx\n",
    "#xxxxxxxxxxxxxxxxxxxxxxxxxxxxxxxx\n"
   ]
  }
 ],
 "metadata": {
  "kernelspec": {
   "display_name": "Python 2",
   "language": "python",
   "name": "python2"
  },
  "language_info": {
   "codemirror_mode": {
    "name": "ipython",
    "version": 2
   },
   "file_extension": ".py",
   "mimetype": "text/x-python",
   "name": "python",
   "nbconvert_exporter": "python",
   "pygments_lexer": "ipython2",
   "version": "2.7.5"
  }
 },
 "nbformat": 4,
 "nbformat_minor": 1
}

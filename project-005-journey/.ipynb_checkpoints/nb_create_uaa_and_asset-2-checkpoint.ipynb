{
 "cells": [
  {
   "cell_type": "code",
   "execution_count": 71,
   "metadata": {
    "collapsed": false
   },
   "outputs": [],
   "source": [
    "'''\n",
    "This Notebook demonstrates the use of cloudFoundary services\n",
    "from GE Predix.  Specifically it uses UAA authentication\n",
    "GE Asset microservices for a simple web-based application.\n",
    "\n",
    "The python-based script uses:\n",
    "    subprocess management (standard library)\n",
    "    json (standard library)\n",
    "    cloudFoundry api, linux curl\n",
    "    cloudFoundry cf CLI\n",
    "    cloufFoundary UAA and GE Asset micrososervices\n",
    "\n",
    "References:\n",
    "The process is based on the example at\n",
    "    https://www.predix.io/blog/article.html?article_id=2034\n",
    "with additional information from \n",
    "    http://stackoverflow.com/questions/27985469/how-to-get-oauth-token-from-cloudfoundry\n",
    "    https://docs.python.org/3.7/reference/index.html\n",
    "    https://docs.python.org/3.7/library/index.html\n",
    "'''\n",
    "\n",
    "x=1"
   ]
  },
  {
   "cell_type": "code",
   "execution_count": 72,
   "metadata": {
    "collapsed": true
   },
   "outputs": [],
   "source": [
    "'''\n",
    "Procedure:\n",
    "\n",
    "Login\n",
    "1> mkdir ~/tempForBlog1; cd ~/tempForBlog1\n",
    "2> cf login # with your credentials\n",
    "\n",
    "Create UAA Service\n",
    "3> cf create-service predix-uaa Tiered my-uaa -c '{\"adminClientSecret\":\"my-secret\"}'\n",
    "\n",
    "Get UAA Vitals\n",
    "4> appname=`whoami`.temp.html # need unique name\n",
    "5> touch $appname\n",
    "6> cf push --no-start $appname\n",
    "7> cf bs $appname my-uaa \n",
    "8> cf env $appname # Output is environment variables\n",
    "9> cf delete $appname --f\n",
    "\n",
    "Create Asset Service\n",
    "10> cf create-service predix-asset Tiered my-asset -c '{\"trustedIssuerIds\":[\"https://2edfb28e-e02c-4ae9-a7cd-818c263128d8.predix-uaa.run.aws-usw02-pr.ice.predix.io/oauth/token\"]}'\n",
    "\n",
    "Get Asset Vitals\n",
    "11> touch $appname\n",
    "12> cf push --no-start $appname\n",
    "13> cf bs $appname my-asset\n",
    "14> cf env $appname\n",
    "\n",
    "UAAC Targets UAA\n",
    "15> uaac target https://2edfb28e-e02c-4ae9-a7cd-818c263128d8.predix-uaa.run.aws-usw02-pr.ice.predix.io\n",
    "16> uaac token client get admin --secret my-secret # gets the admin token, NOT usable for asset\n",
    "\n",
    "Add UAAC Client\n",
    "17> uaac client add asset-client --authorities openid,uaa.none,uaa.resource,predix-asset.zones.6827f028-5b6b-439e-ae08-9587cedb6f56.user --scope uaa.none,openid,predix-asset.zones.6827f028-5b6b-439e-ae08-9587cedb6f56.user --autoapprove openid --authorized_grant_types authorization_code,client_credentials,refresh_token,password --secret my-secret --name asset-client\n",
    "\n",
    "\n",
    "\n",
    "\n",
    "\n",
    "\n",
    "cf curl /v2/spaces\n",
    "cf curl /v2/apps\n",
    "cf curl /v2/services\n",
    "\n",
    "\n",
    "\n",
    "As suggested in the reference - we ran an dummy app (cwinsor.temp.html) as a means to get the \"issuerId\"\n",
    "We want to reproduce the process using cf curl.  This involves tracing JSON urls to find it.\n",
    "The final target is:\n",
    "cf env cwinsor.temp.html ...\n",
    " \"issuerId\": \"https://5b5428fa-4922-4be6-81ed-ad40a2a28f70.predix-uaa.run.aws-usw02-pr.ice.predix.io/oauth/token\",\n",
    "\n",
    "To reproduce that using cf curl\n",
    "cf curl /v2/spaces\n",
    "produces\n",
    "[\"resources\"][0][\"metadata\"][\"url\"] = \"/v2/spaces/f9c7e95d-76ad-477e-aaa8-ce8103b4e7cc\",\n",
    "[\"resources\"][0][\"entity\"][\"name\"] = \"dev\"\n",
    "[\"resources\"][0][\"entity\"][\"apps_url\"] = \"/v2/spaces/f9c7e95d-76ad-477e-aaa8-ce8103b4e7cc/apps\",\n",
    "[\"resources\"][0][\"entity\"][\"service_instances_url\"] = \"/v2/spaces/f9c7e95d-76ad-477e-aaa8-ce8103b4e7cc/service_instances\",\n",
    "\n",
    "<first find the UAA service GUID>\n",
    "cf curl /v2/spaces/f9c7e95d-76ad-477e-aaa8-ce8103b4e7cc/service_instances\n",
    "produces\n",
    "[\"resources\"][0][\"entity\"][\"name\"]: \"my-uaa\"\n",
    "[\"resources\"][0][\"metadata\"][\"guid\"]: \"5b5428fa-4922-4be6-81ed-ad40a2a28f70\",\n",
    "\n",
    "<now that we have the UAA GUID - search for that in my app as a service...>\n",
    "cf curl /v2/spaces/f9c7e95d-76ad-477e-aaa8-ce8103b4e7cc/apps\n",
    "produces\n",
    "[\"resources\"][0][\"entity\"][\"name\"]: \"cwinsor.temp.html\"\n",
    "[\"resources\"][0][\"metadata\"][\"url\"]: \"/v2/apps/8508f927-aeb4-4f43-a62e-4348b13cb58d\",\n",
    "[\"resources\"][0][\"entity\"][\"service_bindings_url\"]: \"/v2/apps/8508f927-aeb4-4f43-a62e-4348b13cb58d/service_bindings\",\n",
    "\n",
    "cf curl /v2/apps/8508f927-aeb4-4f43-a62e-4348b13cb58d/service_bindings\n",
    "produces\n",
    "[\"resources\"][0][\"entity\"][service_instance_guid\": \"5b5428fa-4922-4be6-81ed-ad40a2a28f70\",\n",
    "[\"resources\"][0][\"entity\"][\"credentials\"][\"issuerId\"]: \"https://5b5428fa-4922-4be6-81ed-ad40a2a28f70.predix-uaa.run.aws-usw02-pr.ice.predix.io/oauth/token\",\n",
    "\n",
    "GOT IT !\n",
    "'''\n",
    "x = 1"
   ]
  },
  {
   "cell_type": "code",
   "execution_count": 73,
   "metadata": {
    "collapsed": false
   },
   "outputs": [
    {
     "name": "stdout",
     "output_type": "stream",
     "text": [
      "Log in\n",
      "username:cwinsor@gmail.com\n",
      "password:········\n",
      "MY_DEV_SPACE_URL: /v2/spaces/f9c7e95d-76ad-477e-aaa8-ce8103b4e7cc\n",
      "MY_APPS_URL: /v2/spaces/f9c7e95d-76ad-477e-aaa8-ce8103b4e7cc/apps\n",
      "MY_SERVICES_URL: /v2/spaces/f9c7e95d-76ad-477e-aaa8-ce8103b4e7cc/service_instances\n",
      "done\n"
     ]
    }
   ],
   "source": [
    "### Log In\n",
    "\n",
    "import getpass\n",
    "from subprocess import check_output\n",
    "import json\n",
    "\n",
    "print(\"Log in\")\n",
    "finished = False\n",
    "while not finished:\n",
    "    subprocess.call([\"cf\", \"logout\"])\n",
    "    u = raw_input(\"username:\")\n",
    "    p = getpass.getpass(\"password:\")\n",
    "    proc = subprocess.Popen([\"cf\", \"login\", \"-s\", \"dev\", \"-u\", u, \"-p\", p],\n",
    "                        shell=False,\n",
    "                        stdin=subprocess.PIPE,\n",
    "                        stdout=subprocess.PIPE,\n",
    "                        stderr=subprocess.PIPE,\n",
    "                        )\n",
    "    stdout_value, stderr_value = proc.communicate()\n",
    "    #print '\\tstdout: ', repr(stdout_value)\n",
    "    #print '\\tstderr: ', repr(stderr_value)\n",
    "    #print '\\tproc.returncode: ', proc.returncode\n",
    "    if proc.returncode == 0:\n",
    "        finished = True\n",
    "    else:\n",
    "        print \"login failed\"\n",
    "\n",
    "# squirrel away URLs for the space, apps and services\n",
    "temp_p = json.loads(check_output([\"cf\", \"curl\", \"/v2/spaces\"]))\n",
    "for num, line in enumerate(temp_p[\"resources\"]):\n",
    "    if (line[\"entity\"][\"name\"] == \"dev\"):\n",
    "        MY_DEV_SPACE_URL = line[\"metadata\"][\"url\"]\n",
    "        MY_APPS_URL      = line[\"entity\"][\"apps_url\"]\n",
    "        MY_SERVICES_URL  = line[\"entity\"][\"service_instances_url\"]\n",
    "        \n",
    "print (\"MY_DEV_SPACE_URL: \" + MY_DEV_SPACE_URL)\n",
    "print (\"MY_APPS_URL: \" +  MY_APPS_URL)\n",
    "print (\"MY_SERVICES_URL: \" +  MY_SERVICES_URL)\n",
    "print \"done\""
   ]
  },
  {
   "cell_type": "code",
   "execution_count": 74,
   "metadata": {
    "collapsed": false
   },
   "outputs": [
    {
     "name": "stdout",
     "output_type": "stream",
     "text": [
      "Creating UAA Service...\n",
      "secret code:········\n",
      "Creating service instance my-uaa in org cwinsor@gmail.com / space dev as cwinsor@gmail.com...\n",
      "OK\n",
      "\n",
      "done\n"
     ]
    }
   ],
   "source": [
    "# Create UAA Service\n",
    "# 3> cf create-service predix-uaa Tiered my-uaa -c '{\"adminClientSecret\":\"my-secret\"}'\n",
    "\n",
    "from subprocess import check_output\n",
    "\n",
    "print \"Creating UAA Service...\"\n",
    "secret = getpass.getpass('secret code:')\n",
    "aa = \"\\\"adminClientSecret\\\"\"\n",
    "bb = \"\\\"\" + secret + \"\\\"\"\n",
    "cc = \"{\" + aa + \":\" + bb + \"}\"\n",
    "#print cc\n",
    "dd = [\"cf\", \"create-service\", \"predix-uaa\", \"Free\", \"my-uaa\", \"-c\", cc]\n",
    "#print dd\n",
    "foo = check_output(dd)\n",
    "print foo\n",
    "\n",
    "print \"done\""
   ]
  },
  {
   "cell_type": "code",
   "execution_count": 75,
   "metadata": {
    "collapsed": false
   },
   "outputs": [
    {
     "name": "stdout",
     "output_type": "stream",
     "text": [
      "Get UAA vitals (will take a few seconds...)\n",
      "MY_UAA_SERVICE_URL:/v2/service_instances/cfbcf94f-08f4-427b-a822-4a8d41a2d765\n",
      "MY_UAA_SERVICE_GUID: cfbcf94f-08f4-427b-a822-4a8d41a2d765\n",
      "MY_UAA_CREDENTIALS_ISSUER_ID: https://cfbcf94f-08f4-427b-a822-4a8d41a2d765.predix-uaa.run.aws-usw02-pr.ice.predix.io/oauth/token\n",
      "done\n"
     ]
    }
   ],
   "source": [
    "# Get uaa vitals\n",
    "# We need to get the environment variables of our new UAA.\n",
    "# One way to accomplish that is to bind to a dummy application.\n",
    "# Here we create a simple empty html file to serve as our dummy app.\n",
    "\n",
    "import subprocess\n",
    "import json\n",
    "\n",
    "print \"Get UAA vitals (will take a few seconds...)\"\n",
    "# create a temporary application\n",
    "subprocess.check_call([\"echo\", \"\", \">\", \"cwinsor.temp.html\"])\n",
    "subprocess.check_call([\"cf\", \"push\", \"--no-start\", \"cwinsor.temp.html\"])\n",
    "subprocess.check_call([\"cf\", \"bs\", \"cwinsor.temp.html\", \"my-uaa\"])\n",
    "subprocess.check_call([\"cf\", \"env\", \"cwinsor.temp.html\"])\n",
    "\n",
    "# we now will use that application to get environment variables relating to UAA\n",
    "\n",
    "# find the UAA service GUID\n",
    "# starting from the services URL, and search for my-uaa\n",
    "# then from that URL get the GUID\n",
    "temp_p = json.loads(check_output([\"cf\", \"curl\", MY_SERVICES_URL]))\n",
    "for num, line in enumerate(temp_p[\"resources\"]):\n",
    "    if (line[\"entity\"][\"name\"] == \"my-uaa\"):\n",
    "        MY_UAA_SERVICE_URL = line[\"metadata\"][\"url\"]\n",
    "print (\"MY_UAA_SERVICE_URL:\" + MY_UAA_SERVICE_URL)\n",
    "temp_p = json.loads(check_output([\"cf\", \"curl\", MY_UAA_SERVICE_URL]))\n",
    "MY_UAA_SERVICE_GUID = temp_p[\"metadata\"][\"guid\"]\n",
    "print (\"MY_UAA_SERVICE_GUID: \" + MY_UAA_SERVICE_GUID)\n",
    "\n",
    "# find the app\n",
    "temp_p = json.loads(check_output([\"cf\", \"curl\", MY_APPS_URL]))\n",
    "#print json.dumps(temp_p, sort_keys=True, indent=4, separators=(',', ': '))\n",
    "for num, line in enumerate(temp_p[\"resources\"]):\n",
    "    if (line[\"entity\"][\"name\"] == \"cwinsor.temp.html\"):\n",
    "        MY_APP_1_URL = line[\"metadata\"][\"url\"]\n",
    "#print (\"MY_APP_1_URL:\" + MY_APP_1_URL)\n",
    "\n",
    "# find the issuerId of the service instance matching the UAA service\n",
    "temp_p = json.loads(check_output([\"cf\", \"curl\", MY_APP_1_URL]))\n",
    "#print json.dumps(temp_p, sort_keys=True, indent=4, separators=(',', ': '))\n",
    "MY_APP_1_SERVICE_BINDINGS_URL = temp_p[\"entity\"][\"service_bindings_url\"]\n",
    "#print (\"MY_APP_1_SERVICE_BINDINGS_URL: \" + MY_APP_1_SERVICE_BINDINGS_URL)\n",
    "\n",
    "temp_p = json.loads(check_output([\"cf\", \"curl\", MY_APP_1_SERVICE_BINDINGS_URL]))\n",
    "for num, line in enumerate(temp_p[\"resources\"]):\n",
    "    if (line[\"entity\"][\"service_instance_guid\"] == MY_UAA_SERVICE_GUID):\n",
    "        MY_UAA_CREDENTIALS_ISSUER_ID = line[\"entity\"][\"credentials\"][\"issuerId\"]\n",
    "print (\"MY_UAA_CREDENTIALS_ISSUER_ID: \" + MY_UAA_CREDENTIALS_ISSUER_ID)\n",
    "\n",
    "# delete the app\n",
    "subprocess.check_call([\"cf\", \"delete\", \"cwinsor.temp.html\", \"-f\"])\n",
    "\n",
    "print \"done\""
   ]
  },
  {
   "cell_type": "code",
   "execution_count": 76,
   "metadata": {
    "collapsed": false
   },
   "outputs": [
    {
     "name": "stdout",
     "output_type": "stream",
     "text": [
      "Creating Asset Service...\n",
      "done\n"
     ]
    }
   ],
   "source": [
    "# Create Asset Service\n",
    "# 10> cf create-service predix-asset Tiered my-asset -c '{\"trustedIssuerIds\":[\"https://2edfb28e-e02c-4ae9-a7cd-818c263128d8.predix-uaa.run.aws-usw02-pr.ice.predix.io/oauth/token\"]}'\n",
    "\n",
    "from subprocess import check_output\n",
    "\n",
    "print \"Creating Asset Service...\"\n",
    "issuer_id = json.dumps({\"trustedIssuerIds\": [MY_UAA_CREDENTIALS_ISSUER_ID]})\n",
    "foo = check_output([\"cf\", \"create-service\", \"predix-asset\", \"Tiered\", \"my-asset\", \"-c\", issuer_id])\n",
    "\n",
    "print \"done\""
   ]
  },
  {
   "cell_type": "code",
   "execution_count": 77,
   "metadata": {
    "collapsed": false
   },
   "outputs": [
    {
     "name": "stdout",
     "output_type": "stream",
     "text": [
      "Get Asset vitals (will take a few seconds...)\n",
      "MY_ASSET_SERVICE_URL: /v2/service_instances/62aadccd-1c4f-43e7-96c7-963b91171056\n",
      "MY_ASSET_SERVICE_GUID: 62aadccd-1c4f-43e7-96c7-963b91171056\n",
      "MY_APP_1_URL:/v2/apps/10e1e079-c26f-4286-8001-f7959fd5f108\n",
      "MY_APP_1_SERVICE_BINDINGS_URL: /v2/apps/10e1e079-c26f-4286-8001-f7959fd5f108/service_bindings\n",
      "MY_ASSET_SERVICE_URI: https://predix-asset.run.aws-usw02-pr.ice.predix.io\n",
      "done\n"
     ]
    }
   ],
   "source": [
    "# Get Asset vitals\n",
    "# We need to get the environment variables of our Asset.\n",
    "# One way to accomplish that is to bind to a dummy application.\n",
    "# Here we create a simple empty html file to serve as our dummy app.\n",
    "\n",
    "import subprocess\n",
    "import json\n",
    "\n",
    "print \"Get Asset vitals (will take a few seconds...)\"\n",
    "# create a temporary application\n",
    "subprocess.check_call([\"echo\", \"\", \">\", \"cwinsor.temp.html\"])\n",
    "subprocess.check_call([\"cf\", \"push\", \"--no-start\", \"cwinsor.temp.html\"])\n",
    "subprocess.check_call([\"cf\", \"bs\", \"cwinsor.temp.html\", \"my-asset\"])\n",
    "subprocess.check_call([\"cf\", \"env\", \"cwinsor.temp.html\"])\n",
    "\n",
    "# squirrel away the URL for the Asset Service\n",
    "temp_p = json.loads(check_output([\"cf\", \"curl\", MY_SERVICES_URL]))\n",
    "for num, line in enumerate(temp_p[\"resources\"]):\n",
    "    if (line[\"entity\"][\"name\"] == \"my-asset\"):\n",
    "        MY_ASSET_SERVICE_URL = line[\"metadata\"][\"url\"]\n",
    "print (\"MY_ASSET_SERVICE_URL: \" + MY_ASSET_SERVICE_URL)\n",
    "temp_p = json.loads(check_output([\"cf\", \"curl\", MY_ASSET_SERVICE_URL]))\n",
    "#print json.dumps(temp_p, sort_keys=True, indent=4, separators=(',', ': '))\n",
    "\n",
    "MY_ASSET_SERVICE_GUID = temp_p[\"metadata\"][\"guid\"]\n",
    "print (\"MY_ASSET_SERVICE_GUID: \" + MY_ASSET_SERVICE_GUID)\n",
    "\n",
    "\n",
    "# find the app\n",
    "temp_p = json.loads(check_output([\"cf\", \"curl\", MY_APPS_URL]))\n",
    "#print json.dumps(temp_p, sort_keys=True, indent=4, separators=(',', ': '))\n",
    "\n",
    "for num, line in enumerate(temp_p[\"resources\"]):\n",
    "    if (line[\"entity\"][\"name\"] == \"cwinsor.temp.html\"):\n",
    "        MY_APP_1_URL = line[\"metadata\"][\"url\"]\n",
    "print (\"MY_APP_1_URL:\" + MY_APP_1_URL)\n",
    "temp_p = json.loads(check_output([\"cf\", \"curl\", MY_APP_1_URL]))\n",
    "#print json.dumps(temp_p, sort_keys=True, indent=4, separators=(',', ': '))\n",
    "\n",
    "MY_APP_1_SERVICE_BINDINGS_URL = temp_p[\"entity\"][\"service_bindings_url\"]\n",
    "print (\"MY_APP_1_SERVICE_BINDINGS_URL: \" + MY_APP_1_SERVICE_BINDINGS_URL)\n",
    "temp_p = json.loads(check_output([\"cf\", \"curl\", MY_APP_1_SERVICE_BINDINGS_URL]))\n",
    "#print json.dumps(temp_p, sort_keys=True, indent=4, separators=(',', ': '))\n",
    "\n",
    "for num, line in enumerate(temp_p[\"resources\"]):\n",
    "    if (line[\"entity\"][\"credentials\"][\"instanceId\"] == MY_ASSET_SERVICE_GUID):\n",
    "        MY_ASSET_SERVICE_URI = line[\"entity\"][\"credentials\"][\"uri\"]\n",
    "print (\"MY_ASSET_SERVICE_URI: \" + MY_ASSET_SERVICE_URI)\n",
    "print \"done\""
   ]
  },
  {
   "cell_type": "code",
   "execution_count": 78,
   "metadata": {
    "collapsed": false
   },
   "outputs": [
    {
     "name": "stdout",
     "output_type": "stream",
     "text": [
      "UAAC Targets UAA\n",
      "UAAC secret:········\n",
      "done\n"
     ]
    }
   ],
   "source": [
    "# UAAC Targets UAA\n",
    "\n",
    "import subprocess\n",
    "import json\n",
    "import getpass\n",
    "\n",
    "print \"UAAC Targets UAA\"\n",
    "uaa_credentials_issuer = MY_UAA_CREDENTIALS_ISSUER_ID.split(\"/oauth/token\")\n",
    "subprocess.check_call([\"uaac\", \"target\", uaa_credentials_issuer[0]])\n",
    "\n",
    "my_secret = getpass.getpass(\"UAAC secret:\")\n",
    "subprocess.check_call([\"uaac\", \"token\", \"client\", \"get\", \"admin\", \"--secret\", my_secret])\n",
    "\n",
    "print \"done\"\n",
    "    "
   ]
  },
  {
   "cell_type": "code",
   "execution_count": 79,
   "metadata": {
    "collapsed": false
   },
   "outputs": [
    {
     "name": "stdout",
     "output_type": "stream",
     "text": [
      "Add UAAC Client\n",
      "UAAC secret:········\n",
      "done\n"
     ]
    }
   ],
   "source": [
    "# Add UAAC Client\n",
    "# We need to use the instance id of Asset, sometimes called the Predix zone id\n",
    "\n",
    "# 17> uaac client add asset-client --authorities openid,uaa.none,uaa.resource,predix-asset.zones.6827f028-5b6b-439e-ae08-9587cedb6f56.user --scope uaa.none,openid,predix-asset.zones.6827f028-5b6b-439e-ae08-9587cedb6f56.user --autoapprove openid --authorized_grant_types authorization_code,client_credentials,refresh_token,password --secret my-secret --name asset-client\n",
    "\n",
    "import subprocess\n",
    "import json\n",
    "import getpass\n",
    "\n",
    "print \"Add UAAC Client\"\n",
    "my_secret = getpass.getpass(\"UAAC secret:\")\n",
    "instanceid = \"predix-asset.zones.\" + MY_ASSET_SERVICE_GUID + \".user\"\n",
    "l = [\"uaac\",\n",
    "     \"client\",\n",
    "     \"add\",\n",
    "     \"asset-client\",\n",
    "     \"--authorities\",\n",
    "     \"openid,uaa.none,uaa.resource,\" + instanceid,\n",
    "     \"--scope\",\n",
    "     \"uaa.none,openid,\" + instanceid,\n",
    "     \"--autoapprove\",\n",
    "     \"openid\",\n",
    "     \"--authorized_grant_types\",\n",
    "     \"authorization_code,client_credentials,refresh_token,password\",\n",
    "     \"--secret\",\n",
    "     my_secret,\n",
    "     \"--name\",\n",
    "     \"asset-client\"]\n",
    "\n",
    "subprocess.check_call(l)\n",
    "print \"done\""
   ]
  },
  {
   "cell_type": "code",
   "execution_count": 105,
   "metadata": {
    "collapsed": false
   },
   "outputs": [
    {
     "name": "stdout",
     "output_type": "stream",
     "text": [
      "Get Then Display The Token\n",
      "UAAC secret:········\n",
      "MY_BEARER_ACCESS_TOKEN: eyJhbGciOiJSUzI1NiIsImtpZCI6ImxlZ2FjeS10b2tlbi1rZXkiLCJ0eXAiOiJKV1QifQ.eyJqdGkiOiI1OWVmOWYwNGJlNjg0MmE1ODMyZjJiYWQ3YTg0YWI5YSIsInN1YiI6ImFzc2V0LWNsaWVudCIsInNjb3BlIjpbInVhYS5yZXNvdXJjZSIsInByZWRpeC1hc3NldC56b25lcy42MmFhZGNjZC0xYzRmLTQzZTctOTZjNy05NjNiOTExNzEwNTYudXNlciIsIm9wZW5pZCIsInVhYS5ub25lIl0sImNsaWVudF9pZCI6ImFzc2V0LWNsaWVudCIsImNpZCI6ImFzc2V0LWNsaWVudCIsImF6cCI6ImFzc2V0LWNsaWVudCIsImdyYW50X3R5cGUiOiJjbGllbnRfY3JlZGVudGlhbHMiLCJyZXZfc2lnIjoiZWY5ZjIwOGEiLCJpYXQiOjE0ODA4NzEzMzQsImV4cCI6MTQ4MDkxNDUzNCwiaXNzIjoiaHR0cHM6Ly9jZmJjZjk0Zi0wOGY0LTQyN2ItYTgyMi00YThkNDFhMmQ3NjUucHJlZGl4LXVhYS5ydW4uYXdzLXVzdzAyLXByLmljZS5wcmVkaXguaW8vb2F1dGgvdG9rZW4iLCJ6aWQiOiJjZmJjZjk0Zi0wOGY0LTQyN2ItYTgyMi00YThkNDFhMmQ3NjUiLCJhdWQiOlsicHJlZGl4LWFzc2V0LnpvbmVzLjYyYWFkY2NkLTFjNGYtNDNlNy05NmM3LTk2M2I5MTE3MTA1NiIsInVhYSIsImFzc2V0LWNsaWVudCIsIm9wZW5pZCJdfQ.Zwq1s3DZNRKQWEgv8EpcY8XXEknzoNIX-3emC_7JyqZAuJ9fkyRTVziCf8S_M9_XUPPRfO31bUbvL68QFCt_DuvfMAT_uOqVlpigXPWTf-Q_lXGpjn5O_nZeeYJw0A62iekv-jIxizxhaFVwo7hOLmxMJnTkTPgZY0emNLkEkDl7IwHTa5v7U2Yfjtb_erh72gF7P_NvBW0VBHkkp4hHzEErOB82-DTBUQ5eeVq1UItz5o_NcK1TLANulMtY0YvK9qfwK05vH-Go_taY41hzghtYeG1-nR-CeDY7LFdQl_RHsLANxiyGq3QYb0sPBVd2_P13701uZ4a9HYJoXdTXew\n",
      "done\n"
     ]
    }
   ],
   "source": [
    "# Get Then Display The Token\n",
    "import subprocess\n",
    "\n",
    "#18> uaac token client get asset-client --secret my-secret # if token expires then do this again\n",
    "#19> uaac context\n",
    "\n",
    "print \"Get Then Display The Token\"\n",
    "my_secret = getpass.getpass(\"UAAC secret:\")\n",
    "\n",
    "subprocess.check_call([\"uaac\", \"token\", \"client\", \"get\", \"asset-client\", \"--secret\", my_secret])\n",
    "foo = check_output([\"uaac\", \"context\"])\n",
    "#print(json.dumps(temp_p, sort_keys=True, indent=4, separators=(',', ': ')))\n",
    "#print foo\n",
    "bar1 = foo.split(\"access_token: \")\n",
    "bar2 = bar1[1].split(\"\\n\")\n",
    "MY_BEARER_ACCESS_TOKEN = bar2[0]\n",
    "print (\"MY_BEARER_ACCESS_TOKEN: \" + MY_BEARER_ACCESS_TOKEN)\n",
    "print \"done\"\n"
   ]
  },
  {
   "cell_type": "code",
   "execution_count": 112,
   "metadata": {
    "collapsed": false
   },
   "outputs": [
    {
     "name": "stdout",
     "output_type": "stream",
     "text": [
      "Validation By Talking To Asset\n",
      "\tstdout: '[{\"collection\":\"tests\",\"count\":1}]'\n",
      "\tstdout: ''\n",
      "\tstdout: '[\\n  {\\n    \"uri\": \"/tests/my-first-test\",\\n    \"foo\": true,\\n    \"bar\": [\\n      34,\\n      56\\n    ]\\n  }\\n]'\n",
      "\tstdout: '[{\"collection\":\"tests\",\"count\":1}]'\n",
      "done\n"
     ]
    }
   ],
   "source": [
    "# Validation By Talking To Asset\n",
    "print \"Validation By Talking To Asset\"\n",
    "\n",
    "#foo3 = [\"curl\",\n",
    "#        \"-H\", [predix-zone-id: \" + MY_ASSET_SERVICE_GUID + \"\"\",\n",
    "#       \"-H\", \"\\\"Authorization: bearer \" + MY_BEARER_ACCESS_TOKEN + \"\\\"\",\n",
    "#        MY_ASSET_SERVICE_URI]\n",
    "#bar = check_output(foo3)\n",
    "#print bar\n",
    "\n",
    "#print \"command 1\"\n",
    "THE_CMD  = \" curl \"\n",
    "ZONE_HDR = \" -H \\\"predix-zone-id: \" + MY_ASSET_SERVICE_GUID + \"\\\" \"\n",
    "AUTH_HDR = \" -H \\\"Authorization: bearer \" + MY_BEARER_ACCESS_TOKEN + \"\\\" \"\n",
    "THE_URI  = MY_ASSET_SERVICE_URI\n",
    "\n",
    "proc = subprocess.Popen(THE_CMD + ZONE_HDR + AUTH_HDR + THE_URI,\n",
    "                        shell=True,\n",
    "                        stdin=subprocess.PIPE,\n",
    "                        stdout=subprocess.PIPE,\n",
    "                        stderr=subprocess.PIPE,\n",
    "                        )\n",
    "stdout_value, stderr_value = proc.communicate()\n",
    "print '\\tstdout:', repr(stdout_value)\n",
    "#print '\\tstderr:', repr(stderr_value)\n",
    "\n",
    "\n",
    "#curl -X POST -d '[{ \"uri\": \"/tests/my-first-test\", \"foo\": true, \"bar\": [34,56] }]'\n",
    "#curl -X POST -d '[{ \"uri\": \"/tests/my-first-test\", \"foo\": true, \"bar\": [34,56] }]' \n",
    "#-H \"Content-Type: application/json\"\n",
    "#-H \"predix-zone-id: 87af97a0-c4a9-49fd-a002-240aacb3c540\"\n",
    "#-H \"Authorization: <BEARER-TOKEN>\"\n",
    "#https://predix-asset.run.aws-usw02-pr.ice.predix.io/tests\n",
    "\n",
    "#print \"command 2\"\n",
    "THE_CMD  = ' curl -X POST -d \\'[{ \"uri\": \"/tests/my-first-test\", \"foo\": true, \"bar\": [34,56] }]\\' '\n",
    "CONT_HDR = \" -H \\\"Content-Type: application/json\\\" \"\n",
    "ZONE_HDR = \" -H \\\"predix-zone-id: \" + MY_ASSET_SERVICE_GUID + \"\\\" \"\n",
    "AUTH_HDR = \" -H \\\"Authorization: bearer \" + MY_BEARER_ACCESS_TOKEN + \"\\\" \"\n",
    "THE_URI  = MY_ASSET_SERVICE_URI + \"/tests \"\n",
    "\n",
    "proc = subprocess.Popen(THE_CMD + CONT_HDR + ZONE_HDR + AUTH_HDR + THE_URI,\n",
    "                        shell=True,\n",
    "                        stdin=subprocess.PIPE,\n",
    "                        stdout=subprocess.PIPE,\n",
    "                        stderr=subprocess.PIPE,\n",
    "                        )\n",
    "stdout_value, stderr_value = proc.communicate()\n",
    "print '\\tstdout:', repr(stdout_value)\n",
    "#print '\\tstderr:', repr(stderr_value)\n",
    "\n",
    "\n",
    "# curl -H \"predix-zone-id: 87af97a0-c4a9-49fd-a002-240aacb3c540\" -H \"Authorization: <BEARER-TOKEN>\" https://predix-asset.run.aws-usw02-pr.ice.predix.io/tests/my-first-test\n",
    "#print \"command 3\"\n",
    "THE_CMD  = ' curl '\n",
    "ZONE_HDR = \" -H \\\"predix-zone-id: \" + MY_ASSET_SERVICE_GUID + \"\\\" \"\n",
    "AUTH_HDR = \" -H \\\"Authorization: bearer \" + MY_BEARER_ACCESS_TOKEN + \"\\\" \"\n",
    "THE_URI  = MY_ASSET_SERVICE_URI + \"/tests/my-first-test \"\n",
    "\n",
    "proc = subprocess.Popen(THE_CMD + ZONE_HDR + AUTH_HDR + THE_URI,\n",
    "                        shell=True,\n",
    "                        stdin=subprocess.PIPE,\n",
    "                        stdout=subprocess.PIPE,\n",
    "                        stderr=subprocess.PIPE,\n",
    "                        )\n",
    "stdout_value, stderr_value = proc.communicate()\n",
    "print '\\tstdout:', repr(stdout_value)\n",
    "#print '\\tstderr:', repr(stderr_value)\n",
    "\n",
    "\n",
    "# curl -H \"predix-zone-id: 5aacd7de-f6da-42f6-8e3f-6c6c6dd595fd\" -H \"Authorization: <BEARER-TOKEN>\" https://predix-asset.run.aws-usw02-pr.ice.predix.io \n",
    "\n",
    "#print \"command 4\"\n",
    "THE_CMD  = ' curl '\n",
    "ZONE_HDR = \" -H \\\"predix-zone-id: \" + MY_ASSET_SERVICE_GUID + \"\\\" \"\n",
    "AUTH_HDR = \" -H \\\"Authorization: bearer \" + MY_BEARER_ACCESS_TOKEN + \"\\\" \"\n",
    "THE_URI  = MY_ASSET_SERVICE_URI\n",
    "\n",
    "proc = subprocess.Popen(THE_CMD + ZONE_HDR + AUTH_HDR + THE_URI,\n",
    "                        shell=True,\n",
    "                        stdin=subprocess.PIPE,\n",
    "                        stdout=subprocess.PIPE,\n",
    "                        stderr=subprocess.PIPE,\n",
    "                        )\n",
    "stdout_value, stderr_value = proc.communicate()\n",
    "print '\\tstdout:', repr(stdout_value)\n",
    "#print '\\tstderr:', repr(stderr_value)\n",
    "\n",
    "print \"done\""
   ]
  },
  {
   "cell_type": "code",
   "execution_count": 34,
   "metadata": {
    "collapsed": true
   },
   "outputs": [],
   "source": [
    "\n",
    "#xxxxxxxxxxxxxxxxxxxxxxxxxxxxxxxx\n",
    "#xxxxxxxxxxxxxxxxxxxxxxxxxxxxxxxx\n",
    "#xxxxxxxxxxxxxxxxxxxxxxxxxxxxxxxx\n"
   ]
  },
  {
   "cell_type": "code",
   "execution_count": 5,
   "metadata": {
    "collapsed": false
   },
   "outputs": [
    {
     "name": "stdout",
     "output_type": "stream",
     "text": [
      "cloudForge log in\n",
      "username:cwinsor@gmail.com\n",
      "password:········\n",
      "get the API endpoint...\n",
      "MY_PR_API_ENDPOINT https://api.system.aws-usw02-pr.ice.predix.io\n",
      "get the OAUTH bearer token...\n",
      "MY_PR_BEARER_TOKEN eyJhbGciOiJSUzI1NiIsImtpZCI6ImxlZ2FjeS10b2tlbi1rZXkiLCJ0eXAiOiJKV1QifQ.eyJqdGkiOiIwZjRlY2VjNTBmNTI0Y2QxODkzZmMxYTI3NDkwMTg2OSIsInN1YiI6IjM1NjNmOTE2LThiOWYtNDRhMi1iMTAzLTFiY2RiNmE1ZjJkNiIsInNjb3BlIjpbImNsb3VkX2NvbnRyb2xsZXIucmVhZCIsInBhc3N3b3JkLndyaXRlIiwiY2xvdWRfY29udHJvbGxlci53cml0ZSIsIm9wZW5pZCIsInVhYS51c2VyIl0sImNsaWVudF9pZCI6ImNmIiwiY2lkIjoiY2YiLCJhenAiOiJjZiIsImdyYW50X3R5cGUiOiJwYXNzd29yZCIsInVzZXJfaWQiOiIzNTYzZjkxNi04YjlmLTQ0YTItYjEwMy0xYmNkYjZhNWYyZDYiLCJvcmlnaW4iOiJ1YWEiLCJ1c2VyX25hbWUiOiJjd2luc29yQGdtYWlsLmNvbSIsImVtYWlsIjoiY3dpbnNvckBnbWFpbC5jb20iLCJyZXZfc2lnIjoiNjMyMzE2ZSIsImlhdCI6MTQ4MDYwMzc5MywiZXhwIjoxNDgwNjEwOTkzLCJpc3MiOiJodHRwczovL3VhYS5zeXN0ZW0uYXdzLXVzdzAyLXByLmljZS5wcmVkaXguaW8vb2F1dGgvdG9rZW4iLCJ6aWQiOiJ1YWEiLCJhdWQiOlsiY2xvdWRfY29udHJvbGxlciIsInBhc3N3b3JkIiwiY2YiLCJ1YWEiLCJvcGVuaWQiXX0.M8OmlXDJBdJUm-toGcmrWSlwNenNMYpyo0qdBjCBP0GdHAn-EsdQ8VJHd3PSUuc-hnVoZJYPv-zYHwE0VTlc3U96KZmJ2Zbj9WHmH3YKGT6i8J9fZ5JYGEpKSgjfmcMAF90G4sev2gjw2s4jrioa23ekrMPSgBX3EeSwxhtg7j1S7Knaj3NxgNRmrE588ReoxTgFMblcOOsx6gnzfMw6cqUxwDAUiDf4ouSQf_DJmatVKly4qAkU7q9LjHMDyd8VO0Ldz0Jy2_wHtxeBkJuZWI2-BF9kq2j0LnCfJ1CVIykH9NwfewKWBfs89CgpkyVPhR26Ae1rVG1qU6uenKqImA\n",
      "done\n"
     ]
    }
   ],
   "source": [
    "### Log In\n",
    "\n",
    "import getpass\n",
    "from subprocess import check_output\n",
    "\n",
    "print(\"cloudForge log in\")\n",
    "u = raw_input(\"username:\")\n",
    "p = getpass.getpass(\"password:\")\n",
    "\n",
    "# get the API endpoint\n",
    "print (\"get the API endpoint...\")\n",
    "foo = check_output([\"cf\", \"login\", \"-u\", u, \"-p\", p])\n",
    "foo = check_output([\"cf\", \"api\"])\n",
    "bar = foo.split()\n",
    "MY_PR_API_ENDPOINT = bar[2]\n",
    "print (\"MY_PR_API_ENDPOINT \" + MY_PR_API_ENDPOINT)\n",
    "\n",
    "# get the OAUTH bearer token\n",
    "print (\"get the OAUTH bearer token...\")\n",
    "foo = check_output([\"cf\", \"oauth-token\"])\n",
    "bar = foo.split()\n",
    "MY_PR_BEARER_TOKEN = bar[1]\n",
    "MY_PR_BEARER_TOKEN_W_AUTH = \"'Authorization: bearer \" + MY_PR_BEARER_TOKEN + \"'\"\n",
    "print (\"MY_PR_BEARER_TOKEN \" + MY_PR_BEARER_TOKEN)\n",
    "\n",
    "print(\"done\")"
   ]
  },
  {
   "cell_type": "code",
   "execution_count": 40,
   "metadata": {
    "collapsed": false
   },
   "outputs": [
    {
     "name": "stdout",
     "output_type": "stream",
     "text": [
      "Get Asset vitals (will take a few seconds...)\n",
      "MY_ASSET_SERVICE_URL: /v2/service_instances/df8da196-d497-4f0e-9842-8e525f9d8ad0\n",
      "MY_ASSET_SERVICE_GUID: df8da196-d497-4f0e-9842-8e525f9d8ad0\n",
      "MY_APP_1_URL:/v2/apps/2e31abcd-835d-44c7-82e9-963463392b32\n",
      "MY_APP_1_SERVICE_BINDINGS_URL: /v2/apps/2e31abcd-835d-44c7-82e9-963463392b32/service_bindings\n",
      "{\n",
      "    \"next_url\": null,\n",
      "    \"prev_url\": null,\n",
      "    \"resources\": [\n",
      "        {\n",
      "            \"entity\": {\n",
      "                \"app_guid\": \"2e31abcd-835d-44c7-82e9-963463392b32\",\n",
      "                \"app_url\": \"/v2/apps/2e31abcd-835d-44c7-82e9-963463392b32\",\n",
      "                \"binding_options\": {},\n",
      "                \"credentials\": {\n",
      "                    \"instanceId\": \"df8da196-d497-4f0e-9842-8e525f9d8ad0\",\n",
      "                    \"scriptEngine_uri\": \"https://df8da196-d497-4f0e-9842-8e525f9d8ad0.predix-script-engine.run.aws-usw02-pr.ice.predix.io\",\n",
      "                    \"uri\": \"https://predix-asset.run.aws-usw02-pr.ice.predix.io\",\n",
      "                    \"zone\": {\n",
      "                        \"http-header-name\": \"Predix-Zone-Id\",\n",
      "                        \"http-header-value\": \"df8da196-d497-4f0e-9842-8e525f9d8ad0\",\n",
      "                        \"oauth-scope\": \"predix-asset.zones.df8da196-d497-4f0e-9842-8e525f9d8ad0.user\"\n",
      "                    }\n",
      "                },\n",
      "                \"gateway_data\": null,\n",
      "                \"gateway_name\": \"\",\n",
      "                \"service_instance_guid\": \"df8da196-d497-4f0e-9842-8e525f9d8ad0\",\n",
      "                \"service_instance_url\": \"/v2/service_instances/df8da196-d497-4f0e-9842-8e525f9d8ad0\",\n",
      "                \"syslog_drain_url\": null,\n",
      "                \"volume_mounts\": []\n",
      "            },\n",
      "            \"metadata\": {\n",
      "                \"created_at\": \"2016-12-03T19:53:14Z\",\n",
      "                \"guid\": \"6866ca29-85c0-4c43-895f-6b53841bc818\",\n",
      "                \"updated_at\": null,\n",
      "                \"url\": \"/v2/service_bindings/6866ca29-85c0-4c43-895f-6b53841bc818\"\n",
      "            }\n",
      "        }\n",
      "    ],\n",
      "    \"total_pages\": 1,\n",
      "    \"total_results\": 1\n",
      "}\n",
      "MY_ASSET_SERVICE_URI: https://predix-asset.run.aws-usw02-pr.ice.predix.io\n",
      "done\n"
     ]
    }
   ],
   "source": [
    "# Get Asset vitals\n",
    "# We need to get the environment variables of our Asset.\n",
    "# One way to accomplish that is to bind to a dummy application.\n",
    "# Here we create a simple empty html file to serve as our dummy app.\n",
    "\n",
    "import subprocess\n",
    "import json\n",
    "\n",
    "print \"Get Asset vitals (will take a few seconds...)\"\n",
    "# create a temporary application\n",
    "subprocess.check_call([\"echo\", \"\", \">\", \"cwinsor.temp.html\"])\n",
    "subprocess.check_call([\"cf\", \"push\", \"--no-start\", \"cwinsor.temp.html\"])\n",
    "subprocess.check_call([\"cf\", \"bs\", \"cwinsor.temp.html\", \"my-asset\"])\n",
    "subprocess.check_call([\"cf\", \"env\", \"cwinsor.temp.html\"])\n",
    "\n",
    "# squirrel away the URL for the Asset Service\n",
    "temp_p = json.loads(check_output([\"cf\", \"curl\", MY_SERVICES_URL]))\n",
    "for num, line in enumerate(temp_p[\"resources\"]):\n",
    "    if (line[\"entity\"][\"name\"] == \"my-asset\"):\n",
    "        MY_ASSET_SERVICE_URL = line[\"metadata\"][\"url\"]\n",
    "print (\"MY_ASSET_SERVICE_URL: \" + MY_ASSET_SERVICE_URL)\n",
    "temp_p = json.loads(check_output([\"cf\", \"curl\", MY_ASSET_SERVICE_URL]))\n",
    "MY_ASSET_SERVICE_GUID = temp_p[\"metadata\"][\"guid\"]\n",
    "print (\"MY_ASSET_SERVICE_GUID: \" + MY_ASSET_SERVICE_GUID)\n",
    "\n",
    "\n",
    "# find the app\n",
    "temp_p = json.loads(check_output([\"cf\", \"curl\", MY_APPS_URL]))\n",
    "#print json.dumps(temp_p, sort_keys=True, indent=4, separators=(',', ': '))\n",
    "\n",
    "for num, line in enumerate(temp_p[\"resources\"]):\n",
    "    if (line[\"entity\"][\"name\"] == \"cwinsor.temp.html\"):\n",
    "        MY_APP_1_URL = line[\"metadata\"][\"url\"]\n",
    "print (\"MY_APP_1_URL:\" + MY_APP_1_URL)\n",
    "temp_p = json.loads(check_output([\"cf\", \"curl\", MY_APP_1_URL]))\n",
    "#print json.dumps(temp_p, sort_keys=True, indent=4, separators=(',', ': '))\n",
    "\n",
    "MY_APP_1_SERVICE_BINDINGS_URL = temp_p[\"entity\"][\"service_bindings_url\"]\n",
    "print (\"MY_APP_1_SERVICE_BINDINGS_URL: \" + MY_APP_1_SERVICE_BINDINGS_URL)\n",
    "temp_p = json.loads(check_output([\"cf\", \"curl\", MY_APP_1_SERVICE_BINDINGS_URL]))\n",
    "#print json.dumps(temp_p, sort_keys=True, indent=4, separators=(',', ': '))\n",
    "\n",
    "for num, line in enumerate(temp_p[\"resources\"]):\n",
    "    if (line[\"entity\"][\"credentials\"][\"instanceId\"] == MY_ASSET_SERVICE_GUID):\n",
    "        MY_ASSET_SERVICE_URI = line[\"entity\"][\"credentials\"][\"uri\"]\n",
    "print (\"MY_ASSET_SERVICE_URI: \" + MY_ASSET_SERVICE_URI)\n",
    "\n",
    "## delete the app\n",
    "#subprocess.check_call([\"cf\", \"delete\", \"cwinsor.temp.html\", \"-f\"])\n",
    "\n",
    "print \"done\"\n"
   ]
  },
  {
   "cell_type": "code",
   "execution_count": 6,
   "metadata": {
    "collapsed": false
   },
   "outputs": [
    {
     "name": "stdout",
     "output_type": "stream",
     "text": [
      "{\n",
      "    \"next_url\": null,\n",
      "    \"prev_url\": null,\n",
      "    \"resources\": [\n",
      "        {\n",
      "            \"entity\": {\n",
      "                \"allow_ssh\": true,\n",
      "                \"app_events_url\": \"/v2/spaces/f9c7e95d-76ad-477e-aaa8-ce8103b4e7cc/app_events\",\n",
      "                \"apps_url\": \"/v2/spaces/f9c7e95d-76ad-477e-aaa8-ce8103b4e7cc/apps\",\n",
      "                \"auditors_url\": \"/v2/spaces/f9c7e95d-76ad-477e-aaa8-ce8103b4e7cc/auditors\",\n",
      "                \"developers_url\": \"/v2/spaces/f9c7e95d-76ad-477e-aaa8-ce8103b4e7cc/developers\",\n",
      "                \"domains_url\": \"/v2/spaces/f9c7e95d-76ad-477e-aaa8-ce8103b4e7cc/domains\",\n",
      "                \"events_url\": \"/v2/spaces/f9c7e95d-76ad-477e-aaa8-ce8103b4e7cc/events\",\n",
      "                \"isolation_segment_guid\": null,\n",
      "                \"managers_url\": \"/v2/spaces/f9c7e95d-76ad-477e-aaa8-ce8103b4e7cc/managers\",\n",
      "                \"name\": \"dev\",\n",
      "                \"organization_guid\": \"bd806ab3-1297-47cd-bdcc-1ab816ae2216\",\n",
      "                \"organization_url\": \"/v2/organizations/bd806ab3-1297-47cd-bdcc-1ab816ae2216\",\n",
      "                \"routes_url\": \"/v2/spaces/f9c7e95d-76ad-477e-aaa8-ce8103b4e7cc/routes\",\n",
      "                \"security_groups_url\": \"/v2/spaces/f9c7e95d-76ad-477e-aaa8-ce8103b4e7cc/security_groups\",\n",
      "                \"service_instances_url\": \"/v2/spaces/f9c7e95d-76ad-477e-aaa8-ce8103b4e7cc/service_instances\",\n",
      "                \"space_quota_definition_guid\": null\n",
      "            },\n",
      "            \"metadata\": {\n",
      "                \"created_at\": \"2016-11-22T16:36:54Z\",\n",
      "                \"guid\": \"f9c7e95d-76ad-477e-aaa8-ce8103b4e7cc\",\n",
      "                \"updated_at\": null,\n",
      "                \"url\": \"/v2/spaces/f9c7e95d-76ad-477e-aaa8-ce8103b4e7cc\"\n",
      "            }\n",
      "        }\n",
      "    ],\n",
      "    \"total_pages\": 1,\n",
      "    \"total_results\": 1\n",
      "}\n",
      "targeting space: \"dev\"\n",
      "url: /v2/spaces/f9c7e95d-76ad-477e-aaa8-ce8103b4e7cc\n"
     ]
    }
   ],
   "source": [
    "# Identify what space to target.  Get the guid\n",
    "\n",
    "from subprocess import check_output\n",
    "\n",
    "# cf curl /v2/spaces\n",
    "foo = check_output([\"cf\", \"curl\", \"/v2/spaces\"])\n",
    "import json\n",
    "bar = json.loads(foo)\n",
    "print json.dumps(bar, sort_keys=True, indent=4, separators=(',', ': '))\n",
    "\n",
    "dict = {}\n",
    "for num, line in enumerate(bar[\"resources\"]):\n",
    "    dict[num] = line[\"entity\"][\"name\"]\n",
    "\n",
    "if (len(dict)==1):\n",
    "    sp = 0;\n",
    "else:\n",
    "    finished = False\n",
    "    while not finished:\n",
    "        sp = input(\"Choose the space you want to target:\\n     \" + str(dict))\n",
    "        try:\n",
    "            t = bar[\"resources\"][sp]\n",
    "            finished = True\n",
    "        except IndexError:\n",
    "            finished = False\n",
    "\n",
    "MY_PR_GUID   = bar[\"resources\"][sp][\"metadata\"][\"guid\"]\n",
    "MY_PR_URL    = bar[\"resources\"][sp][\"metadata\"][\"url\"]\n",
    "MY_PR_NAME   = bar[\"resources\"][sp][\"entity\"][\"name\"]\n",
    "MY_PR_ENTITY = bar[\"resources\"][sp][\"entity\"]\n",
    "\n",
    "lst = [\"cf\", \"target\", \"-s\", MY_PR_NAME]\n",
    "foo = check_output(lst)\n",
    "\n",
    "print \"targeting space: \\\"\" + MY_PR_NAME + \"\\\"\"\n",
    "print \"url: \" + MY_PR_URL"
   ]
  },
  {
   "cell_type": "code",
   "execution_count": 7,
   "metadata": {
    "collapsed": false
   },
   "outputs": [
    {
     "name": "stdout",
     "output_type": "stream",
     "text": [
      "Create UAA Service\n",
      "secret code:········\n",
      "Creating service instance my-uaa in org cwinsor@gmail.com / space dev as cwinsor@gmail.com...\n",
      "OK\n",
      "\n",
      "{\n",
      "    \"bound_app_count\": 0,\n",
      "    \"dashboard_url\": null,\n",
      "    \"guid\": \"5b5428fa-4922-4be6-81ed-ad40a2a28f70\",\n",
      "    \"last_operation\": {\n",
      "        \"created_at\": \"2016-12-01T14:50:16Z\",\n",
      "        \"description\": \"\",\n",
      "        \"state\": \"succeeded\",\n",
      "        \"type\": \"create\",\n",
      "        \"updated_at\": null\n",
      "    },\n",
      "    \"name\": \"my-uaa\",\n",
      "    \"service_plan\": {\n",
      "        \"guid\": \"7b3e7f66-b1b8-448e-857e-79e2fde2e6c8\",\n",
      "        \"name\": \"Free\",\n",
      "        \"service\": {\n",
      "            \"guid\": \"a7d692d5-5d26-4b0b-b9a9-8e3e84a61856\",\n",
      "            \"label\": \"predix-uaa\",\n",
      "            \"provider\": null,\n",
      "            \"version\": null\n",
      "        }\n",
      "    }\n",
      "}\n",
      "UAA_GUID: 5b5428fa-4922-4be6-81ed-ad40a2a28f70\n",
      "done\n"
     ]
    }
   ],
   "source": [
    "### Create UAA Service\n",
    "### cf create-service predix-uaa Free my-uaa -c '{\"adminClientSecret\":\"my-secret\"}'\n",
    "\n",
    "from subprocess import check_output\n",
    "\n",
    "print(\"Create UAA Service\")\n",
    "secret = getpass.getpass('secret code:')\n",
    "aa = \"\\\"adminClientSecret\\\"\"\n",
    "bb = \"\\\"\" + secret + \"\\\"\"\n",
    "cc = \"{\" + aa + \":\" + bb + \"}\"\n",
    "#print cc\n",
    "dd = [\"cf\", \"create-service\", \"predix-uaa\", \"Free\", \"my-uaa\", \"-c\", cc]\n",
    "#print dd\n",
    "foo = check_output(dd)\n",
    "print foo\n",
    "\n",
    "# now get the details of the UAA and print GUID\n",
    "lst = [\"curl\", \"-H\", \"Authorization: bearer \" + MY_PR_BEARER_TOKEN,  MY_PR_API_ENDPOINT + MY_PR_URL + \"/summary\"]\n",
    "temp_j = check_output(lst)\n",
    "import json\n",
    "temp_p = json.loads(temp_j)\n",
    "#print json.dumps(temp_p, sort_keys=True, indent=4, separators=(',', ': '))\n",
    "\n",
    "for num, line in enumerate(temp_p[\"services\"]):\n",
    "    if (line[\"name\"] == \"my-uaa\"):\n",
    "        MY_PR_UAA = line\n",
    "\n",
    "MY_PR_UAA_GUID   =  MY_PR_UAA[\"guid\"]\n",
    "\n",
    "print json.dumps(MY_PR_UAA, sort_keys=True, indent=4, separators=(',', ': '))\n",
    "print \"UAA_GUID: \" + MY_PR_UAA_GUID\n",
    "print \"done\"\n"
   ]
  },
  {
   "cell_type": "code",
   "execution_count": null,
   "metadata": {
    "collapsed": true
   },
   "outputs": [],
   "source": [
    "\n",
    "        "
   ]
  },
  {
   "cell_type": "code",
   "execution_count": 15,
   "metadata": {
    "collapsed": false
   },
   "outputs": [
    {
     "name": "stdout",
     "output_type": "stream",
     "text": [
      "/v2/spaces/f9c7e95d-76ad-477e-aaa8-ce8103b4e7cc\n",
      "{\n",
      "    \"entity\": {\n",
      "        \"allow_ssh\": true,\n",
      "        \"app_events_url\": \"/v2/spaces/f9c7e95d-76ad-477e-aaa8-ce8103b4e7cc/app_events\",\n",
      "        \"apps_url\": \"/v2/spaces/f9c7e95d-76ad-477e-aaa8-ce8103b4e7cc/apps\",\n",
      "        \"auditors_url\": \"/v2/spaces/f9c7e95d-76ad-477e-aaa8-ce8103b4e7cc/auditors\",\n",
      "        \"developers_url\": \"/v2/spaces/f9c7e95d-76ad-477e-aaa8-ce8103b4e7cc/developers\",\n",
      "        \"domains_url\": \"/v2/spaces/f9c7e95d-76ad-477e-aaa8-ce8103b4e7cc/domains\",\n",
      "        \"events_url\": \"/v2/spaces/f9c7e95d-76ad-477e-aaa8-ce8103b4e7cc/events\",\n",
      "        \"isolation_segment_guid\": null,\n",
      "        \"managers_url\": \"/v2/spaces/f9c7e95d-76ad-477e-aaa8-ce8103b4e7cc/managers\",\n",
      "        \"name\": \"dev\",\n",
      "        \"organization_guid\": \"bd806ab3-1297-47cd-bdcc-1ab816ae2216\",\n",
      "        \"organization_url\": \"/v2/organizations/bd806ab3-1297-47cd-bdcc-1ab816ae2216\",\n",
      "        \"routes_url\": \"/v2/spaces/f9c7e95d-76ad-477e-aaa8-ce8103b4e7cc/routes\",\n",
      "        \"security_groups_url\": \"/v2/spaces/f9c7e95d-76ad-477e-aaa8-ce8103b4e7cc/security_groups\",\n",
      "        \"service_instances_url\": \"/v2/spaces/f9c7e95d-76ad-477e-aaa8-ce8103b4e7cc/service_instances\",\n",
      "        \"space_quota_definition_guid\": null\n",
      "    },\n",
      "    \"metadata\": {\n",
      "        \"created_at\": \"2016-11-22T16:36:54Z\",\n",
      "        \"guid\": \"f9c7e95d-76ad-477e-aaa8-ce8103b4e7cc\",\n",
      "        \"updated_at\": null,\n",
      "        \"url\": \"/v2/spaces/f9c7e95d-76ad-477e-aaa8-ce8103b4e7cc\"\n",
      "    }\n",
      "}\n",
      "done\n"
     ]
    }
   ],
   "source": [
    "### Create application bound to UAA Service (to get necessary parameters)\n",
    "\n",
    "#foo = check_output([\"echo\", \"\", \">\", \"cwinsor.temp.html\"])\n",
    "#foo = check_output([\"cf\", \"push\", \"--no-start\", \"cwinsor.temp.html\"])\n",
    "#foo = check_output([\"cf\", \"bs\", \"cwinsor.temp.html\", \"my-uaa\"])\n",
    "#foo = check_output([\"cf\", \"env\", \"cwinsor.temp.html\"])\n",
    "\n",
    "# we now will use that application to get environment variables relating to UAA\n",
    "\n",
    "# navigate starting at the top\n",
    "my_top = json.loads(check_output([\"cf\", \"curl\", \"/v2/spaces\"]))\n",
    "#print json.dumps(my_top, sort_keys=True, indent=4, separators=(',', ': '))\n",
    "# look for \"dev\" space\n",
    "for num, line in enumerate(my_top[\"resources\"]):\n",
    "    if (line[\"entity\"][\"name\"] == \"dev\"):\n",
    "        MY_SPACE_URL = line[\"metadata\"][\"url\"]\n",
    "        break\n",
    "print MY_SPACE_URL\n",
    "\n",
    "# look at that space\n",
    "my_space = json.loads(check_output([\"cf\", \"curl\", MY_SPACE_URL]))\n",
    "print json.dumps(my_space, sort_keys=True, indent=4, separators=(',', ': '))\n",
    "\n",
    "# look for the application\n",
    "\n",
    "print \"done\""
   ]
  },
  {
   "cell_type": "code",
   "execution_count": 55,
   "metadata": {
    "collapsed": false
   },
   "outputs": [
    {
     "name": "stdout",
     "output_type": "stream",
     "text": [
      "Create Asset Service\n",
      "Creating service instance my-asset in org cwinsor@gmail.com / space dev as cwinsor@gmail.com...\n",
      "OK\n",
      "\n",
      "Attention: The plan `Tiered` of service `predix-asset` is not free.  The instance `my-asset` will incur a cost.  Contact your administrator if you think this is in error.\n",
      "\n",
      "\n",
      "{\n",
      "    \"bound_app_count\": 0,\n",
      "    \"dashboard_url\": null,\n",
      "    \"guid\": \"43d66656-d604-45c8-9cad-91550a546e0f\",\n",
      "    \"last_operation\": {\n",
      "        \"created_at\": \"2016-12-01T00:34:01Z\",\n",
      "        \"description\": \"\",\n",
      "        \"state\": \"succeeded\",\n",
      "        \"type\": \"create\",\n",
      "        \"updated_at\": null\n",
      "    },\n",
      "    \"name\": \"my-asset\",\n",
      "    \"service_plan\": {\n",
      "        \"guid\": \"e08d80b5-6da3-4f29-a2f1-f7834d06cd29\",\n",
      "        \"name\": \"Tiered\",\n",
      "        \"service\": {\n",
      "            \"guid\": \"90fc045c-adb0-41c6-9c5d-072d3d2c44b2\",\n",
      "            \"label\": \"predix-asset\",\n",
      "            \"provider\": null,\n",
      "            \"version\": null\n",
      "        }\n",
      "    }\n",
      "}\n",
      "ASSET_GUID: 43d66656-d604-45c8-9cad-91550a546e0f\n",
      "done\n"
     ]
    }
   ],
   "source": [
    "### Create Asset Service\n",
    "### cf create-service predix-asset Tiered my-asset -c '{\"trustedIssuerIds\":[\"https://2edfb28e-e02c-4ae9-a7cd-818c263128d8.predix-uaa.run.aws-usw02-pr.ice.predix.io/oauth/token\"]}'\n",
    "\n",
    "print(\"Create Asset Service\")\n",
    "#issuer_id = json.dumps({\"trustedIssuerIds\": [MY_PR_API_ENDPOINT + MY_PR_URL + \"/oauth/token\"]})\n",
    "#issuer_id = json.dumps({\"trustedIssuerIds\": [MY_PR_API_ENDPOINT + MY_PR_URL + \"/oauth/token\"]})\n",
    "#https://api.system.aws-usw02-pr.ice.predix.io/v2/spaces/f9c7e95d-76ad-477e-aaa8-ce8103b4e7cc/oauth/token\"]}\n",
    "foo = \"https://f9c7e95d-76ad-477e-aaa8-ce8103b4e7cc.predix-uaa.run.aws-usw02-pr.ice.predix.io/oauth/token\"\n",
    "issuer_id = json.dumps({\"trustedIssuerIds\": [foo]})\n",
    "issuer_id = \"https://\" + UAA_GUID +  UAA_LABEL + predix-uaa\n",
    "\n",
    "\n",
    "#print issuer_id\n",
    "dd = [\"cf\", \"create-service\", \"predix-asset\", \"Tiered\", \"my-asset\", \"-c\", issuer_id]\n",
    "foo = check_output(dd)\n",
    "print foo\n",
    "\n",
    "# now get the details of the UAA and print GUID\n",
    "lst = [\"curl\", \"-H\", \"Authorization: bearer \" + MY_PR_BEARER_TOKEN,  MY_PR_API_ENDPOINT + MY_PR_URL + \"/summary\"]\n",
    "temp_j = check_output(lst)\n",
    "import json\n",
    "temp_p = json.loads(temp_j)\n",
    "#print json.dumps(temp_p, sort_keys=True, indent=4, separators=(',', ': '))\n",
    "\n",
    "for num, line in enumerate(temp_p[\"services\"]):\n",
    "    if (line[\"name\"] == \"my-asset\"):\n",
    "        MY_PR_ASSET = line\n",
    "\n",
    "MY_PR_ASSET_GUID   =  MY_PR_ASSET[\"guid\"]\n",
    "\n",
    "print json.dumps(MY_PR_ASSET, sort_keys=True, indent=4, separators=(',', ': '))\n",
    "print \"ASSET_GUID: \" + MY_PR_ASSET_GUID\n",
    "print \"done\"\n",
    "\n",
    "        "
   ]
  },
  {
   "cell_type": "code",
   "execution_count": 49,
   "metadata": {
    "collapsed": false
   },
   "outputs": [
    {
     "name": "stdout",
     "output_type": "stream",
     "text": [
      "{\"trustedIssuerIds\": [\"https://api.system.aws-usw02-pr.ice.predix.io/v2/spaces/f9c7e95d-76ad-477e-aaa8-ce8103b4e7cc/oauth/token\"]}\n"
     ]
    }
   ],
   "source": [
    "# Set the UAA target for UAAC\n",
    "# Fetch a token into the UAA\n",
    "#15> uaac target https://2edfb28e-e02c-4ae9-a7cd-818c263128d8.predix-uaa.run.aws-usw02-pr.ice.predix.io\n",
    "#16> uaac token client get admin --secret my-secret # gets the admin token, NOT usable for asset\n",
    "\n",
    "issuer_id = json.dumps({\"trustedIssuerIds\": [MY_PR_API_ENDPOINT + MY_PR_URL + \"/oauth/token\"]})\n",
    "print issuer_id\n",
    "\n",
    "\n",
    "#print  MY_PR_API_ENDPOINT + MY_PR_URL\n",
    "#lst = [\"uaac\", \"target\",   MY_PR_API_ENDPOINT + MY_PR_URL]\n",
    "#foo = check_output(lst)\n",
    "#bar = json.loads(foo)\n",
    "#print json.dumps(bar, sort_keys=True, indent=4, separators=(',', ': '))\n",
    "\n",
    "\n"
   ]
  },
  {
   "cell_type": "code",
   "execution_count": 18,
   "metadata": {
    "collapsed": false
   },
   "outputs": [
    {
     "name": "stdout",
     "output_type": "stream",
     "text": [
      "\n",
      "popen3:\n",
      "\tpass through: 'through stdin to stdout'\n",
      "\tstderr      : 'to stderr\\n'\n"
     ]
    }
   ],
   "source": [
    "import subprocess\n",
    "\n",
    "print '\\npopen3:'\n",
    "proc = subprocess.Popen('cat -; echo \"to stderr\" 1>&2',\n",
    "                        shell=True,\n",
    "                        stdin=subprocess.PIPE,\n",
    "                        stdout=subprocess.PIPE,\n",
    "                        stderr=subprocess.PIPE,\n",
    "                        )\n",
    "stdout_value, stderr_value = proc.communicate('through stdin to stdout')\n",
    "print '\\tpass through:', repr(stdout_value)\n",
    "print '\\tstderr      :', repr(stderr_value)"
   ]
  },
  {
   "cell_type": "code",
   "execution_count": null,
   "metadata": {
    "collapsed": true
   },
   "outputs": [],
   "source": []
  },
  {
   "cell_type": "code",
   "execution_count": 53,
   "metadata": {
    "collapsed": false,
    "scrolled": true
   },
   "outputs": [
    {
     "name": "stdout",
     "output_type": "stream",
     "text": [
      "done\n"
     ]
    }
   ],
   "source": [
    "import subprocess\n",
    "\n",
    "proc = subprocess.Popen([\"touch\", \"temp02.txt\"],\n",
    "                        stdin=subprocess.PIPE,\n",
    "                                                                    )\n",
    "#proc.communicate(\"foo\")\n",
    "#stdout_value, stderr_value = proc.communicate()\n",
    "#print 'stdout:', stdout_value\n",
    "#print 'stderr:', stderr_value\n",
    "print \"done\"\n"
   ]
  },
  {
   "cell_type": "code",
   "execution_count": null,
   "metadata": {
    "collapsed": true
   },
   "outputs": [],
   "source": []
  }
 ],
 "metadata": {
  "kernelspec": {
   "display_name": "Python 2",
   "language": "python",
   "name": "python2"
  },
  "language_info": {
   "codemirror_mode": {
    "name": "ipython",
    "version": 2
   },
   "file_extension": ".py",
   "mimetype": "text/x-python",
   "name": "python",
   "nbconvert_exporter": "python",
   "pygments_lexer": "ipython2",
   "version": "2.7.5"
  }
 },
 "nbformat": 4,
 "nbformat_minor": 1
}
